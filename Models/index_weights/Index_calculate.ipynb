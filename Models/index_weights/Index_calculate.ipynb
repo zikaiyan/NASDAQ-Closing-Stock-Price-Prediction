{
 "cells": [
  {
   "cell_type": "code",
   "execution_count": 60,
   "metadata": {},
   "outputs": [],
   "source": [
    "# Loading packages\n",
    "using CSV, DataFrames, Gurobi, JuMP, GLPK, Ipopt"
   ]
  },
  {
   "cell_type": "code",
   "execution_count": 66,
   "metadata": {},
   "outputs": [
    {
     "data": {
      "text/html": [
       "<div><div style = \"float: left;\"><span>36000×12 DataFrame</span></div><div style = \"float: right;\"><span style = \"font-style: italic;\">35975 rows omitted</span></div><div style = \"clear: both;\"></div></div><div class = \"data-frame\" style = \"overflow-x: scroll;\"><table class = \"data-frame\" style = \"margin-bottom: 6px;\"><thead><tr class = \"header\"><th class = \"rowNumber\" style = \"font-weight: bold; text-align: right;\">Row</th><th style = \"text-align: left;\">stock_id</th><th style = \"text-align: left;\">date_id</th><th style = \"text-align: left;\">seconds_in_bucket</th><th style = \"text-align: left;\">wap</th><th style = \"text-align: left;\">target</th><th style = \"text-align: left;\">time_id</th><th style = \"text-align: left;\">row_id</th><th style = \"text-align: left;\">weight</th><th style = \"text-align: left;\">weighted_wap</th><th style = \"text-align: left;\">index</th><th style = \"text-align: left;\">next_wap</th><th style = \"text-align: left;\">next_index</th></tr><tr class = \"subheader headerLastRow\"><th class = \"rowNumber\" style = \"font-weight: bold; text-align: right;\"></th><th title = \"Int64\" style = \"text-align: left;\">Int64</th><th title = \"Int64\" style = \"text-align: left;\">Int64</th><th title = \"Int64\" style = \"text-align: left;\">Int64</th><th title = \"Float64\" style = \"text-align: left;\">Float64</th><th title = \"Float64\" style = \"text-align: left;\">Float64</th><th title = \"Int64\" style = \"text-align: left;\">Int64</th><th title = \"String15\" style = \"text-align: left;\">String15</th><th title = \"Float64\" style = \"text-align: left;\">Float64</th><th title = \"Float64\" style = \"text-align: left;\">Float64</th><th title = \"Float64\" style = \"text-align: left;\">Float64</th><th title = \"Float64\" style = \"text-align: left;\">Float64</th><th title = \"Float64\" style = \"text-align: left;\">Float64</th></tr></thead><tbody><tr><td class = \"rowNumber\" style = \"font-weight: bold; text-align: right;\">1</td><td style = \"text-align: right;\">0</td><td style = \"text-align: right;\">451</td><td style = \"text-align: right;\">490</td><td style = \"text-align: right;\">1.00096</td><td style = \"text-align: right;\">1.82033</td><td style = \"text-align: right;\">24854</td><td style = \"text-align: left;\">451_490_0</td><td style = \"text-align: right;\">0.004</td><td style = \"text-align: right;\">0.00400382</td><td style = \"text-align: right;\">1.00108</td><td style = \"text-align: right;\">0.0</td><td style = \"text-align: right;\">0.0</td></tr><tr><td class = \"rowNumber\" style = \"font-weight: bold; text-align: right;\">2</td><td style = \"text-align: right;\">1</td><td style = \"text-align: right;\">451</td><td style = \"text-align: right;\">490</td><td style = \"text-align: right;\">1.00326</td><td style = \"text-align: right;\">5.78046</td><td style = \"text-align: right;\">24854</td><td style = \"text-align: left;\">451_490_1</td><td style = \"text-align: right;\">0.00099987</td><td style = \"text-align: right;\">0.00100313</td><td style = \"text-align: right;\">1.00108</td><td style = \"text-align: right;\">0.0</td><td style = \"text-align: right;\">0.0</td></tr><tr><td class = \"rowNumber\" style = \"font-weight: bold; text-align: right;\">3</td><td style = \"text-align: right;\">2</td><td style = \"text-align: right;\">451</td><td style = \"text-align: right;\">490</td><td style = \"text-align: right;\">0.99922</td><td style = \"text-align: right;\">4.99964</td><td style = \"text-align: right;\">24854</td><td style = \"text-align: left;\">451_490_2</td><td style = \"text-align: right;\">0.00200041</td><td style = \"text-align: right;\">0.00199885</td><td style = \"text-align: right;\">1.00108</td><td style = \"text-align: right;\">0.0</td><td style = \"text-align: right;\">0.0</td></tr><tr><td class = \"rowNumber\" style = \"font-weight: bold; text-align: right;\">4</td><td style = \"text-align: right;\">3</td><td style = \"text-align: right;\">451</td><td style = \"text-align: right;\">490</td><td style = \"text-align: right;\">1.00087</td><td style = \"text-align: right;\">0.369549</td><td style = \"text-align: right;\">24854</td><td style = \"text-align: left;\">451_490_3</td><td style = \"text-align: right;\">0.00599891</td><td style = \"text-align: right;\">0.00600411</td><td style = \"text-align: right;\">1.00108</td><td style = \"text-align: right;\">0.0</td><td style = \"text-align: right;\">0.0</td></tr><tr><td class = \"rowNumber\" style = \"font-weight: bold; text-align: right;\">5</td><td style = \"text-align: right;\">4</td><td style = \"text-align: right;\">451</td><td style = \"text-align: right;\">490</td><td style = \"text-align: right;\">1.00009</td><td style = \"text-align: right;\">-1.27971</td><td style = \"text-align: right;\">24854</td><td style = \"text-align: left;\">451_490_4</td><td style = \"text-align: right;\">0.00400068</td><td style = \"text-align: right;\">0.00400104</td><td style = \"text-align: right;\">1.00108</td><td style = \"text-align: right;\">0.0</td><td style = \"text-align: right;\">0.0</td></tr><tr><td class = \"rowNumber\" style = \"font-weight: bold; text-align: right;\">6</td><td style = \"text-align: right;\">5</td><td style = \"text-align: right;\">451</td><td style = \"text-align: right;\">490</td><td style = \"text-align: right;\">1.00187</td><td style = \"text-align: right;\">-7.28011</td><td style = \"text-align: right;\">24854</td><td style = \"text-align: left;\">451_490_5</td><td style = \"text-align: right;\">0.00399949</td><td style = \"text-align: right;\">0.00400696</td><td style = \"text-align: right;\">1.00108</td><td style = \"text-align: right;\">0.0</td><td style = \"text-align: right;\">0.0</td></tr><tr><td class = \"rowNumber\" style = \"font-weight: bold; text-align: right;\">7</td><td style = \"text-align: right;\">6</td><td style = \"text-align: right;\">451</td><td style = \"text-align: right;\">490</td><td style = \"text-align: right;\">0.997284</td><td style = \"text-align: right;\">-8.55982</td><td style = \"text-align: right;\">24854</td><td style = \"text-align: left;\">451_490_6</td><td style = \"text-align: right;\">0.00200014</td><td style = \"text-align: right;\">0.00199471</td><td style = \"text-align: right;\">1.00108</td><td style = \"text-align: right;\">0.0</td><td style = \"text-align: right;\">0.0</td></tr><tr><td class = \"rowNumber\" style = \"font-weight: bold; text-align: right;\">8</td><td style = \"text-align: right;\">7</td><td style = \"text-align: right;\">451</td><td style = \"text-align: right;\">490</td><td style = \"text-align: right;\">1.00021</td><td style = \"text-align: right;\">0.400543</td><td style = \"text-align: right;\">24854</td><td style = \"text-align: left;\">451_490_7</td><td style = \"text-align: right;\">0.0059992</td><td style = \"text-align: right;\">0.00600044</td><td style = \"text-align: right;\">1.00108</td><td style = \"text-align: right;\">0.0</td><td style = \"text-align: right;\">0.0</td></tr><tr><td class = \"rowNumber\" style = \"font-weight: bold; text-align: right;\">9</td><td style = \"text-align: right;\">8</td><td style = \"text-align: right;\">451</td><td style = \"text-align: right;\">490</td><td style = \"text-align: right;\">0.99927</td><td style = \"text-align: right;\">-2.83003</td><td style = \"text-align: right;\">24854</td><td style = \"text-align: left;\">451_490_8</td><td style = \"text-align: right;\">0.00600029</td><td style = \"text-align: right;\">0.00599591</td><td style = \"text-align: right;\">1.00108</td><td style = \"text-align: right;\">0.0</td><td style = \"text-align: right;\">0.0</td></tr><tr><td class = \"rowNumber\" style = \"font-weight: bold; text-align: right;\">10</td><td style = \"text-align: right;\">9</td><td style = \"text-align: right;\">451</td><td style = \"text-align: right;\">490</td><td style = \"text-align: right;\">1.0017</td><td style = \"text-align: right;\">-2.38001</td><td style = \"text-align: right;\">24854</td><td style = \"text-align: left;\">451_490_9</td><td style = \"text-align: right;\">0.00200012</td><td style = \"text-align: right;\">0.00200351</td><td style = \"text-align: right;\">1.00108</td><td style = \"text-align: right;\">0.0</td><td style = \"text-align: right;\">0.0</td></tr><tr><td class = \"rowNumber\" style = \"font-weight: bold; text-align: right;\">11</td><td style = \"text-align: right;\">10</td><td style = \"text-align: right;\">451</td><td style = \"text-align: right;\">490</td><td style = \"text-align: right;\">1.00207</td><td style = \"text-align: right;\">3.60012</td><td style = \"text-align: right;\">24854</td><td style = \"text-align: left;\">451_490_10</td><td style = \"text-align: right;\">0.00200072</td><td style = \"text-align: right;\">0.00200487</td><td style = \"text-align: right;\">1.00108</td><td style = \"text-align: right;\">0.0</td><td style = \"text-align: right;\">0.0</td></tr><tr><td class = \"rowNumber\" style = \"font-weight: bold; text-align: right;\">12</td><td style = \"text-align: right;\">11</td><td style = \"text-align: right;\">451</td><td style = \"text-align: right;\">490</td><td style = \"text-align: right;\">1.00101</td><td style = \"text-align: right;\">-2.67029</td><td style = \"text-align: right;\">24854</td><td style = \"text-align: left;\">451_490_11</td><td style = \"text-align: right;\">0.00800012</td><td style = \"text-align: right;\">0.0080082</td><td style = \"text-align: right;\">1.00108</td><td style = \"text-align: right;\">0.0</td><td style = \"text-align: right;\">0.0</td></tr><tr><td class = \"rowNumber\" style = \"font-weight: bold; text-align: right;\">13</td><td style = \"text-align: right;\">12</td><td style = \"text-align: right;\">451</td><td style = \"text-align: right;\">490</td><td style = \"text-align: right;\">1.00172</td><td style = \"text-align: right;\">1.1301</td><td style = \"text-align: right;\">24854</td><td style = \"text-align: left;\">451_490_12</td><td style = \"text-align: right;\">0.00600039</td><td style = \"text-align: right;\">0.0060107</td><td style = \"text-align: right;\">1.00108</td><td style = \"text-align: right;\">0.0</td><td style = \"text-align: right;\">0.0</td></tr><tr><td style = \"text-align: right;\">&vellip;</td><td style = \"text-align: right;\">&vellip;</td><td style = \"text-align: right;\">&vellip;</td><td style = \"text-align: right;\">&vellip;</td><td style = \"text-align: right;\">&vellip;</td><td style = \"text-align: right;\">&vellip;</td><td style = \"text-align: right;\">&vellip;</td><td style = \"text-align: right;\">&vellip;</td><td style = \"text-align: right;\">&vellip;</td><td style = \"text-align: right;\">&vellip;</td><td style = \"text-align: right;\">&vellip;</td><td style = \"text-align: right;\">&vellip;</td><td style = \"text-align: right;\">&vellip;</td></tr><tr><td class = \"rowNumber\" style = \"font-weight: bold; text-align: right;\">35989</td><td style = \"text-align: right;\">188</td><td style = \"text-align: right;\">480</td><td style = \"text-align: right;\">540</td><td style = \"text-align: right;\">0.999936</td><td style = \"text-align: right;\">-0.699758</td><td style = \"text-align: right;\">26454</td><td style = \"text-align: left;\">480_540_188</td><td style = \"text-align: right;\">0.0039998</td><td style = \"text-align: right;\">0.00399954</td><td style = \"text-align: right;\">0.998756</td><td style = \"text-align: right;\">0.0</td><td style = \"text-align: right;\">0.0</td></tr><tr><td class = \"rowNumber\" style = \"font-weight: bold; text-align: right;\">35990</td><td style = \"text-align: right;\">189</td><td style = \"text-align: right;\">480</td><td style = \"text-align: right;\">540</td><td style = \"text-align: right;\">1.00071</td><td style = \"text-align: right;\">6.95944</td><td style = \"text-align: right;\">26454</td><td style = \"text-align: left;\">480_540_189</td><td style = \"text-align: right;\">0.002</td><td style = \"text-align: right;\">0.00200142</td><td style = \"text-align: right;\">0.998756</td><td style = \"text-align: right;\">0.0</td><td style = \"text-align: right;\">0.0</td></tr><tr><td class = \"rowNumber\" style = \"font-weight: bold; text-align: right;\">35991</td><td style = \"text-align: right;\">190</td><td style = \"text-align: right;\">480</td><td style = \"text-align: right;\">540</td><td style = \"text-align: right;\">0.999311</td><td style = \"text-align: right;\">-0.470281</td><td style = \"text-align: right;\">26454</td><td style = \"text-align: left;\">480_540_190</td><td style = \"text-align: right;\">0.00399975</td><td style = \"text-align: right;\">0.00399699</td><td style = \"text-align: right;\">0.998756</td><td style = \"text-align: right;\">0.0</td><td style = \"text-align: right;\">0.0</td></tr><tr><td class = \"rowNumber\" style = \"font-weight: bold; text-align: right;\">35992</td><td style = \"text-align: right;\">191</td><td style = \"text-align: right;\">480</td><td style = \"text-align: right;\">540</td><td style = \"text-align: right;\">0.995958</td><td style = \"text-align: right;\">0.799894</td><td style = \"text-align: right;\">26454</td><td style = \"text-align: left;\">480_540_191</td><td style = \"text-align: right;\">0.0400004</td><td style = \"text-align: right;\">0.0398387</td><td style = \"text-align: right;\">0.998756</td><td style = \"text-align: right;\">0.0</td><td style = \"text-align: right;\">0.0</td></tr><tr><td class = \"rowNumber\" style = \"font-weight: bold; text-align: right;\">35993</td><td style = \"text-align: right;\">192</td><td style = \"text-align: right;\">480</td><td style = \"text-align: right;\">540</td><td style = \"text-align: right;\">1.0007</td><td style = \"text-align: right;\">-1.72973</td><td style = \"text-align: right;\">26454</td><td style = \"text-align: left;\">480_540_192</td><td style = \"text-align: right;\">0.00200037</td><td style = \"text-align: right;\">0.00200177</td><td style = \"text-align: right;\">0.998756</td><td style = \"text-align: right;\">0.0</td><td style = \"text-align: right;\">0.0</td></tr><tr><td class = \"rowNumber\" style = \"font-weight: bold; text-align: right;\">35994</td><td style = \"text-align: right;\">193</td><td style = \"text-align: right;\">480</td><td style = \"text-align: right;\">540</td><td style = \"text-align: right;\">1.00153</td><td style = \"text-align: right;\">-3.88026</td><td style = \"text-align: right;\">26454</td><td style = \"text-align: left;\">480_540_193</td><td style = \"text-align: right;\">0.00799998</td><td style = \"text-align: right;\">0.00801223</td><td style = \"text-align: right;\">0.998756</td><td style = \"text-align: right;\">0.0</td><td style = \"text-align: right;\">0.0</td></tr><tr><td class = \"rowNumber\" style = \"font-weight: bold; text-align: right;\">35995</td><td style = \"text-align: right;\">194</td><td style = \"text-align: right;\">480</td><td style = \"text-align: right;\">540</td><td style = \"text-align: right;\">1.00156</td><td style = \"text-align: right;\">4.8399</td><td style = \"text-align: right;\">26454</td><td style = \"text-align: left;\">480_540_194</td><td style = \"text-align: right;\">0.00199977</td><td style = \"text-align: right;\">0.00200288</td><td style = \"text-align: right;\">0.998756</td><td style = \"text-align: right;\">0.0</td><td style = \"text-align: right;\">0.0</td></tr><tr><td class = \"rowNumber\" style = \"font-weight: bold; text-align: right;\">35996</td><td style = \"text-align: right;\">195</td><td style = \"text-align: right;\">480</td><td style = \"text-align: right;\">540</td><td style = \"text-align: right;\">1.00033</td><td style = \"text-align: right;\">2.31028</td><td style = \"text-align: right;\">26454</td><td style = \"text-align: left;\">480_540_195</td><td style = \"text-align: right;\">0.00400093</td><td style = \"text-align: right;\">0.00400224</td><td style = \"text-align: right;\">0.998756</td><td style = \"text-align: right;\">0.0</td><td style = \"text-align: right;\">0.0</td></tr><tr><td class = \"rowNumber\" style = \"font-weight: bold; text-align: right;\">35997</td><td style = \"text-align: right;\">196</td><td style = \"text-align: right;\">480</td><td style = \"text-align: right;\">540</td><td style = \"text-align: right;\">1.00082</td><td style = \"text-align: right;\">-8.22008</td><td style = \"text-align: right;\">26454</td><td style = \"text-align: left;\">480_540_196</td><td style = \"text-align: right;\">0.00099996</td><td style = \"text-align: right;\">0.00100078</td><td style = \"text-align: right;\">0.998756</td><td style = \"text-align: right;\">0.0</td><td style = \"text-align: right;\">0.0</td></tr><tr><td class = \"rowNumber\" style = \"font-weight: bold; text-align: right;\">35998</td><td style = \"text-align: right;\">197</td><td style = \"text-align: right;\">480</td><td style = \"text-align: right;\">540</td><td style = \"text-align: right;\">0.995797</td><td style = \"text-align: right;\">1.16944</td><td style = \"text-align: right;\">26454</td><td style = \"text-align: left;\">480_540_197</td><td style = \"text-align: right;\">0.00400022</td><td style = \"text-align: right;\">0.00398341</td><td style = \"text-align: right;\">0.998756</td><td style = \"text-align: right;\">0.0</td><td style = \"text-align: right;\">0.0</td></tr><tr><td class = \"rowNumber\" style = \"font-weight: bold; text-align: right;\">35999</td><td style = \"text-align: right;\">198</td><td style = \"text-align: right;\">480</td><td style = \"text-align: right;\">540</td><td style = \"text-align: right;\">0.999008</td><td style = \"text-align: right;\">-1.54018</td><td style = \"text-align: right;\">26454</td><td style = \"text-align: left;\">480_540_198</td><td style = \"text-align: right;\">0.00599947</td><td style = \"text-align: right;\">0.00599352</td><td style = \"text-align: right;\">0.998756</td><td style = \"text-align: right;\">0.0</td><td style = \"text-align: right;\">0.0</td></tr><tr><td class = \"rowNumber\" style = \"font-weight: bold; text-align: right;\">36000</td><td style = \"text-align: right;\">199</td><td style = \"text-align: right;\">480</td><td style = \"text-align: right;\">540</td><td style = \"text-align: right;\">1.00227</td><td style = \"text-align: right;\">-6.53029</td><td style = \"text-align: right;\">26454</td><td style = \"text-align: left;\">480_540_199</td><td style = \"text-align: right;\">0.00400014</td><td style = \"text-align: right;\">0.00400924</td><td style = \"text-align: right;\">0.998756</td><td style = \"text-align: right;\">0.0</td><td style = \"text-align: right;\">0.0</td></tr></tbody></table></div>"
      ],
      "text/latex": [
       "\\begin{tabular}{r|ccccccccc}\n",
       "\t& stock\\_id & date\\_id & seconds\\_in\\_bucket & wap & target & time\\_id & row\\_id & weight & \\\\\n",
       "\t\\hline\n",
       "\t& Int64 & Int64 & Int64 & Float64 & Float64 & Int64 & String15 & Float64 & \\\\\n",
       "\t\\hline\n",
       "\t1 & 0 & 451 & 490 & 1.00096 & 1.82033 & 24854 & 451\\_490\\_0 & 0.004 & $\\dots$ \\\\\n",
       "\t2 & 1 & 451 & 490 & 1.00326 & 5.78046 & 24854 & 451\\_490\\_1 & 0.00099987 & $\\dots$ \\\\\n",
       "\t3 & 2 & 451 & 490 & 0.99922 & 4.99964 & 24854 & 451\\_490\\_2 & 0.00200041 & $\\dots$ \\\\\n",
       "\t4 & 3 & 451 & 490 & 1.00087 & 0.369549 & 24854 & 451\\_490\\_3 & 0.00599891 & $\\dots$ \\\\\n",
       "\t5 & 4 & 451 & 490 & 1.00009 & -1.27971 & 24854 & 451\\_490\\_4 & 0.00400068 & $\\dots$ \\\\\n",
       "\t6 & 5 & 451 & 490 & 1.00187 & -7.28011 & 24854 & 451\\_490\\_5 & 0.00399949 & $\\dots$ \\\\\n",
       "\t7 & 6 & 451 & 490 & 0.997284 & -8.55982 & 24854 & 451\\_490\\_6 & 0.00200014 & $\\dots$ \\\\\n",
       "\t8 & 7 & 451 & 490 & 1.00021 & 0.400543 & 24854 & 451\\_490\\_7 & 0.0059992 & $\\dots$ \\\\\n",
       "\t9 & 8 & 451 & 490 & 0.99927 & -2.83003 & 24854 & 451\\_490\\_8 & 0.00600029 & $\\dots$ \\\\\n",
       "\t10 & 9 & 451 & 490 & 1.0017 & -2.38001 & 24854 & 451\\_490\\_9 & 0.00200012 & $\\dots$ \\\\\n",
       "\t11 & 10 & 451 & 490 & 1.00207 & 3.60012 & 24854 & 451\\_490\\_10 & 0.00200072 & $\\dots$ \\\\\n",
       "\t12 & 11 & 451 & 490 & 1.00101 & -2.67029 & 24854 & 451\\_490\\_11 & 0.00800012 & $\\dots$ \\\\\n",
       "\t13 & 12 & 451 & 490 & 1.00172 & 1.1301 & 24854 & 451\\_490\\_12 & 0.00600039 & $\\dots$ \\\\\n",
       "\t14 & 13 & 451 & 490 & 1.00222 & 2.01941 & 24854 & 451\\_490\\_13 & 0.00200007 & $\\dots$ \\\\\n",
       "\t15 & 14 & 451 & 490 & 1.00114 & 3.11971 & 24854 & 451\\_490\\_14 & 0.0080014 & $\\dots$ \\\\\n",
       "\t16 & 15 & 451 & 490 & 1.00272 & -2.12014 & 24854 & 451\\_490\\_15 & 0.00600051 & $\\dots$ \\\\\n",
       "\t17 & 16 & 451 & 490 & 1.00354 & 3.19004 & 24854 & 451\\_490\\_16 & 0.00199993 & $\\dots$ \\\\\n",
       "\t18 & 17 & 451 & 490 & 0.999374 & -5.89013 & 24854 & 451\\_490\\_17 & 0.0059999 & $\\dots$ \\\\\n",
       "\t19 & 18 & 451 & 490 & 1.00447 & 2.18034 & 24854 & 451\\_490\\_18 & 0.00400013 & $\\dots$ \\\\\n",
       "\t20 & 19 & 451 & 490 & 0.997621 & 13.0701 & 24854 & 451\\_490\\_19 & 0.00199974 & $\\dots$ \\\\\n",
       "\t21 & 20 & 451 & 490 & 1.00251 & 9.16958 & 24854 & 451\\_490\\_20 & 0.00399933 & $\\dots$ \\\\\n",
       "\t22 & 21 & 451 & 490 & 0.998409 & 13.7699 & 24854 & 451\\_490\\_21 & 0.00099993 & $\\dots$ \\\\\n",
       "\t23 & 22 & 451 & 490 & 1.0011 & -3.31998 & 24854 & 451\\_490\\_22 & 0.00599955 & $\\dots$ \\\\\n",
       "\t24 & 23 & 451 & 490 & 1.00022 & 1.59025 & 24854 & 451\\_490\\_23 & 0.00399971 & $\\dots$ \\\\\n",
       "\t$\\dots$ & $\\dots$ & $\\dots$ & $\\dots$ & $\\dots$ & $\\dots$ & $\\dots$ & $\\dots$ & $\\dots$ &  \\\\\n",
       "\\end{tabular}\n"
      ],
      "text/plain": [
       "\u001b[1m36000×12 DataFrame\u001b[0m\n",
       "\u001b[1m   Row \u001b[0m│\u001b[1m stock_id \u001b[0m\u001b[1m date_id \u001b[0m\u001b[1m seconds_in_bucket \u001b[0m\u001b[1m wap      \u001b[0m\u001b[1m target    \u001b[0m\u001b[1m time_id \u001b[0m\u001b[1m r\u001b[0m ⋯\n",
       "       │\u001b[90m Int64    \u001b[0m\u001b[90m Int64   \u001b[0m\u001b[90m Int64             \u001b[0m\u001b[90m Float64  \u001b[0m\u001b[90m Float64   \u001b[0m\u001b[90m Int64   \u001b[0m\u001b[90m S\u001b[0m ⋯\n",
       "───────┼────────────────────────────────────────────────────────────────────────\n",
       "     1 │        0      451                490  1.00096    1.82033     24854  4 ⋯\n",
       "     2 │        1      451                490  1.00326    5.78046     24854  4\n",
       "     3 │        2      451                490  0.99922    4.99964     24854  4\n",
       "     4 │        3      451                490  1.00087    0.369549    24854  4\n",
       "     5 │        4      451                490  1.00009   -1.27971     24854  4 ⋯\n",
       "     6 │        5      451                490  1.00187   -7.28011     24854  4\n",
       "     7 │        6      451                490  0.997284  -8.55982     24854  4\n",
       "     8 │        7      451                490  1.00021    0.400543    24854  4\n",
       "   ⋮   │    ⋮         ⋮             ⋮             ⋮          ⋮         ⋮       ⋱\n",
       " 35994 │      193      480                540  1.00153   -3.88026     26454  4 ⋯\n",
       " 35995 │      194      480                540  1.00156    4.8399      26454  4\n",
       " 35996 │      195      480                540  1.00033    2.31028     26454  4\n",
       " 35997 │      196      480                540  1.00082   -8.22008     26454  4\n",
       " 35998 │      197      480                540  0.995797   1.16944     26454  4 ⋯\n",
       " 35999 │      198      480                540  0.999008  -1.54018     26454  4\n",
       " 36000 │      199      480                540  1.00227   -6.53029     26454  4\n",
       "\u001b[36m                                                6 columns and 35985 rows omitted\u001b[0m"
      ]
     },
     "metadata": {},
     "output_type": "display_data"
    }
   ],
   "source": [
    "# read data\n",
    "df_simplified = CSV.read(\"Input/simplified_train_with_index_for_Zeki.csv\", DataFrame)\n",
    "# change the type of the column \"next_wap\" to float\n",
    "df_simplified[!, :next_wap] = convert(Array{Float64,1}, df_simplified[!, :next_wap])\n",
    "# change the type of the column \"next_idex\" to float\n",
    "df_simplified[!, :next_index] = convert(Array{Float64,1}, df_simplified[!, :next_index])\n",
    "df_simplified"
   ]
  },
  {
   "cell_type": "code",
   "execution_count": 4,
   "metadata": {},
   "outputs": [],
   "source": [
    "weights = [0.004,0.00099987 ,0.00200041 ,0.00599891 ,0.00400068 ,0.00399949\n",
    " ,0.00200014 ,0.0059992  ,0.00600029 ,0.00200012 ,0.00200072 ,0.00800012\n",
    " ,0.00600039 ,0.00200007 ,0.0080014  ,0.00600051 ,0.00199993 ,0.0059999\n",
    " ,0.00400013 ,0.00199974 ,0.00399933 ,0.00099993 ,0.00599955 ,0.00399971\n",
    " ,0.00199876 ,0.00200008 ,0.00400097 ,0.0020008  ,0.00400021 ,0.00400005\n",
    " ,0.00100001 ,0.00100016 ,0.00199924 ,0.00199993 ,0.00599995 ,0.00399917\n",
    " ,0.00400017 ,0.00399906 ,0.00599977 ,0.00200015 ,0.0020007  ,0.03999955\n",
    " ,0.0020001  ,0.00199981 ,0.00399968 ,0.03999983 ,0.00200033 ,0.00099959\n",
    " ,0.00600002 ,0.00399944 ,0.00399979 ,0.00600017 ,0.00099921 ,0.00399993\n",
    " ,0.00399936 ,0.0019985  ,0.00599995 ,0.00400028 ,0.00599981 ,0.00400045\n",
    " ,0.00600029 ,0.00399988 ,0.00200012 ,0.00100003 ,0.00200041 ,0.00400043\n",
    " ,0.00200011 ,0.00799989 ,0.00400056 ,0.00400011 ,0.00199956 ,0.00399921\n",
    " ,0.00599994 ,0.00199992 ,0.00399979 ,0.00400047 ,0.00200035 ,0.00399996\n",
    " ,0.00400003 ,0.00399989 ,0.00100029 ,0.00199997 ,0.00200019 ,0.00799969\n",
    " ,0.02000066 ,0.00400029 ,0.00600019 ,0.00200024 ,0.02       ,0.00199965\n",
    " ,0.00199968 ,0.00599962 ,0.00399987 ,0.00199997 ,0.00099953 ,0.02000033\n",
    " ,0.00600029 ,0.00099946 ,0.00200062 ,0.00399946 ,0.00100021 ,0.00199986\n",
    " ,0.00600047 ,0.00600071 ,0.00399889 ,0.00600028 ,0.0010003  ,0.00199986\n",
    " ,0.00400008 ,0.00600071 ,0.00600016 ,0.00100013 ,0.04000011 ,0.00599947\n",
    " ,0.00200012 ,0.00400061 ,0.00199956 ,0.00199961 ,0.00599985 ,0.00200055\n",
    " ,0.00200083 ,0.00399993 ,0.00599961 ,0.00600028 ,0.00200005 ,0.00199999\n",
    " ,0.0080003  ,0.00600021 ,0.00400044 ,0.00199994 ,0.00599988 ,0.00200002\n",
    " ,0.00399908 ,0.00600099 ,0.00200021 ,0.00399981 ,0.00100042 ,0.00399994\n",
    " ,0.00199993 ,0.0039995  ,0.00800063 ,0.00600055 ,0.00799953 ,0.00200005\n",
    " ,0.00400064 ,0.00199988 ,0.00099981 ,0.00399912 ,0.00399992 ,0.00399974\n",
    " ,0.00599995 ,0.00800022 ,0.00400055 ,0.00099968 ,0.00099956 ,0.00200017\n",
    " ,0.00599973 ,0.00400059 ,0.00100004 ,0.00199961 ,0.00599971 ,0.00400006\n",
    " ,0.00599987 ,0.00800007 ,0.00200054 ,0.00200102 ,0.00400114 ,0.00199923\n",
    " ,0.0399987  ,0.00199969 ,0.00199982 ,0.00399976 ,0.00199995 ,0.00200001\n",
    " ,0.00599982 ,0.02000055 ,0.0039996  ,0.00200022 ,0.00600002 ,0.01999984\n",
    " ,0.00100015 ,0.00200021 ,0.0059996  ,0.00400055 ,0.00599988 ,0.00400022\n",
    " ,0.00399931 ,0.0040002  ,0.0039998  ,0.002      ,0.00399975 ,0.04000041\n",
    " ,0.00200037 ,0.00799998 ,0.00199977 ,0.00400093 ,0.00099996 ,0.00400022\n",
    " ,0.00599947 ,0.00400014];"
   ]
  },
  {
   "cell_type": "code",
   "execution_count": 87,
   "metadata": {},
   "outputs": [
    {
     "data": {
      "text/plain": [
       "index_calculate (generic function with 1 method)"
      ]
     },
     "metadata": {},
     "output_type": "display_data"
    }
   ],
   "source": [
    "function index_calculate(T, S, I, W)\n",
    "\n",
    "    # define the number of stock\n",
    "    n = 200\n",
    "\n",
    "    # define the model\n",
    "    model = Model(Ipopt.Optimizer)\n",
    "\n",
    "    # define the variables\n",
    "    @variable(model, SP[1:n])\n",
    "    @variable(model, IP)\n",
    "\n",
    "    # define the constraints\n",
    "    @constraint(model, IP == sum(W .* SP))\n",
    "    # @constraint(model, [i=1:n], SP[i] == (T[i]/10000 + IP/I) * S[i])\n",
    "    @constraint(model, [i=1:n], T[i] == (SP[i]/S[i] - IP/I) * 10000)\n",
    "\n",
    "    # solve the model\n",
    "    optimize!(model)\n",
    "\n",
    "    # extract the variables\n",
    "    SP = value.(SP)\n",
    "    IP = value.(IP)\n",
    "\n",
    "    # return the results\n",
    "    return SP, IP\n",
    "end"
   ]
  },
  {
   "cell_type": "code",
   "execution_count": 82,
   "metadata": {},
   "outputs": [
    {
     "data": {
      "text/plain": [
       "index_calculate (generic function with 1 method)"
      ]
     },
     "metadata": {},
     "output_type": "display_data"
    }
   ],
   "source": [
    "# function index_calculate(T, S, I, W)\n",
    "\n",
    "#     # define the number of stock\n",
    "#     n = 200\n",
    "\n",
    "#     # define the model\n",
    "#     # model = Model(Gurobi.Optimizer)\n",
    "#     model = Model(GLPK.Optimizer)\n",
    "\n",
    "#     # define the variables\n",
    "#     @variable(model, SP[1:n])\n",
    "#     @variable(model, IP)\n",
    "\n",
    "#     # define the objective function\n",
    "#     @objective(model, Min, 0)\n",
    "\n",
    "#     # define the constraints\n",
    "#     @constraint(model, IP == sum(W .* SP))\n",
    "#     # @constraint(model, [i=1:n], SP[i] == (T[i]/10000 + IP/I) * S[i])\n",
    "#     @constraint(model, [i=1:n], T[i] == (SP[i]/S[i] - IP/I) * 10000)\n",
    "\n",
    "#     # solve the model\n",
    "#     optimize!(model)\n",
    "\n",
    "#     # extract the variables\n",
    "#     SP = value.(SP)\n",
    "#     IP = value.(IP)\n",
    "\n",
    "#     # return the results\n",
    "#     return SP, IP\n",
    "# end"
   ]
  },
  {
   "cell_type": "code",
   "execution_count": 88,
   "metadata": {},
   "outputs": [],
   "source": [
    "for d in 0:29\n",
    "    for s in 0:5\n",
    "        # extract the data\n",
    "        target = df_simplified[d*200*6 + s*200 + 1 : d*200*6 + s*200 + 200, :target]\n",
    "        stock_price = df_simplified[d*200*6 + s*200 + 1 : d*200*6 + s*200 + 200, :wap]\n",
    "        index = df_simplified[d*200*6 + s*200 + 1 : d*200*6 + s*200 + 200, :index][1]\n",
    "        # calculate the index\n",
    "        next_stock_price, next_index = index_calculate(target, stock_price, index, weights)\n",
    "        # save the results\n",
    "        df_simplified[d*200*6 + s*200 + 1 : d*200*6 + s*200 + 200, :next_wap] .= coalesce.(next_stock_price, missing)\n",
    "        df_simplified[d*200*6 + s*200 + 1 : d*200*6 + s*200 + 200, :next_index] .= coalesce(next_index, missing)\n",
    "    end\n",
    "end"
   ]
  },
  {
   "cell_type": "code",
   "execution_count": 89,
   "metadata": {},
   "outputs": [
    {
     "data": {
      "text/html": [
       "<div><div style = \"float: left;\"><span>36000×12 DataFrame</span></div><div style = \"float: right;\"><span style = \"font-style: italic;\">35975 rows omitted</span></div><div style = \"clear: both;\"></div></div><div class = \"data-frame\" style = \"overflow-x: scroll;\"><table class = \"data-frame\" style = \"margin-bottom: 6px;\"><thead><tr class = \"header\"><th class = \"rowNumber\" style = \"font-weight: bold; text-align: right;\">Row</th><th style = \"text-align: left;\">stock_id</th><th style = \"text-align: left;\">date_id</th><th style = \"text-align: left;\">seconds_in_bucket</th><th style = \"text-align: left;\">wap</th><th style = \"text-align: left;\">target</th><th style = \"text-align: left;\">time_id</th><th style = \"text-align: left;\">row_id</th><th style = \"text-align: left;\">weight</th><th style = \"text-align: left;\">weighted_wap</th><th style = \"text-align: left;\">index</th><th style = \"text-align: left;\">next_wap</th><th style = \"text-align: left;\">next_index</th></tr><tr class = \"subheader headerLastRow\"><th class = \"rowNumber\" style = \"font-weight: bold; text-align: right;\"></th><th title = \"Int64\" style = \"text-align: left;\">Int64</th><th title = \"Int64\" style = \"text-align: left;\">Int64</th><th title = \"Int64\" style = \"text-align: left;\">Int64</th><th title = \"Float64\" style = \"text-align: left;\">Float64</th><th title = \"Float64\" style = \"text-align: left;\">Float64</th><th title = \"Int64\" style = \"text-align: left;\">Int64</th><th title = \"String15\" style = \"text-align: left;\">String15</th><th title = \"Float64\" style = \"text-align: left;\">Float64</th><th title = \"Float64\" style = \"text-align: left;\">Float64</th><th title = \"Float64\" style = \"text-align: left;\">Float64</th><th title = \"Float64\" style = \"text-align: left;\">Float64</th><th title = \"Float64\" style = \"text-align: left;\">Float64</th></tr></thead><tbody><tr><td class = \"rowNumber\" style = \"font-weight: bold; text-align: right;\">1</td><td style = \"text-align: right;\">0</td><td style = \"text-align: right;\">451</td><td style = \"text-align: right;\">490</td><td style = \"text-align: right;\">1.00096</td><td style = \"text-align: right;\">1.82033</td><td style = \"text-align: right;\">24854</td><td style = \"text-align: left;\">451_490_0</td><td style = \"text-align: right;\">0.004</td><td style = \"text-align: right;\">0.00400382</td><td style = \"text-align: right;\">1.00108</td><td style = \"text-align: right;\">180.531</td><td style = \"text-align: right;\">180.553</td></tr><tr><td class = \"rowNumber\" style = \"font-weight: bold; text-align: right;\">2</td><td style = \"text-align: right;\">1</td><td style = \"text-align: right;\">451</td><td style = \"text-align: right;\">490</td><td style = \"text-align: right;\">1.00326</td><td style = \"text-align: right;\">5.78046</td><td style = \"text-align: right;\">24854</td><td style = \"text-align: left;\">451_490_1</td><td style = \"text-align: right;\">0.00099987</td><td style = \"text-align: right;\">0.00100313</td><td style = \"text-align: right;\">1.00108</td><td style = \"text-align: right;\">180.947</td><td style = \"text-align: right;\">180.553</td></tr><tr><td class = \"rowNumber\" style = \"font-weight: bold; text-align: right;\">3</td><td style = \"text-align: right;\">2</td><td style = \"text-align: right;\">451</td><td style = \"text-align: right;\">490</td><td style = \"text-align: right;\">0.99922</td><td style = \"text-align: right;\">4.99964</td><td style = \"text-align: right;\">24854</td><td style = \"text-align: left;\">451_490_2</td><td style = \"text-align: right;\">0.00200041</td><td style = \"text-align: right;\">0.00199885</td><td style = \"text-align: right;\">1.00108</td><td style = \"text-align: right;\">180.219</td><td style = \"text-align: right;\">180.553</td></tr><tr><td class = \"rowNumber\" style = \"font-weight: bold; text-align: right;\">4</td><td style = \"text-align: right;\">3</td><td style = \"text-align: right;\">451</td><td style = \"text-align: right;\">490</td><td style = \"text-align: right;\">1.00087</td><td style = \"text-align: right;\">0.369549</td><td style = \"text-align: right;\">24854</td><td style = \"text-align: left;\">451_490_3</td><td style = \"text-align: right;\">0.00599891</td><td style = \"text-align: right;\">0.00600411</td><td style = \"text-align: right;\">1.00108</td><td style = \"text-align: right;\">180.515</td><td style = \"text-align: right;\">180.553</td></tr><tr><td class = \"rowNumber\" style = \"font-weight: bold; text-align: right;\">5</td><td style = \"text-align: right;\">4</td><td style = \"text-align: right;\">451</td><td style = \"text-align: right;\">490</td><td style = \"text-align: right;\">1.00009</td><td style = \"text-align: right;\">-1.27971</td><td style = \"text-align: right;\">24854</td><td style = \"text-align: left;\">451_490_4</td><td style = \"text-align: right;\">0.00400068</td><td style = \"text-align: right;\">0.00400104</td><td style = \"text-align: right;\">1.00108</td><td style = \"text-align: right;\">180.375</td><td style = \"text-align: right;\">180.553</td></tr><tr><td class = \"rowNumber\" style = \"font-weight: bold; text-align: right;\">6</td><td style = \"text-align: right;\">5</td><td style = \"text-align: right;\">451</td><td style = \"text-align: right;\">490</td><td style = \"text-align: right;\">1.00187</td><td style = \"text-align: right;\">-7.28011</td><td style = \"text-align: right;\">24854</td><td style = \"text-align: left;\">451_490_5</td><td style = \"text-align: right;\">0.00399949</td><td style = \"text-align: right;\">0.00400696</td><td style = \"text-align: right;\">1.00108</td><td style = \"text-align: right;\">180.695</td><td style = \"text-align: right;\">180.553</td></tr><tr><td class = \"rowNumber\" style = \"font-weight: bold; text-align: right;\">7</td><td style = \"text-align: right;\">6</td><td style = \"text-align: right;\">451</td><td style = \"text-align: right;\">490</td><td style = \"text-align: right;\">0.997284</td><td style = \"text-align: right;\">-8.55982</td><td style = \"text-align: right;\">24854</td><td style = \"text-align: left;\">451_490_6</td><td style = \"text-align: right;\">0.00200014</td><td style = \"text-align: right;\">0.00199471</td><td style = \"text-align: right;\">1.00108</td><td style = \"text-align: right;\">179.868</td><td style = \"text-align: right;\">180.553</td></tr><tr><td class = \"rowNumber\" style = \"font-weight: bold; text-align: right;\">8</td><td style = \"text-align: right;\">7</td><td style = \"text-align: right;\">451</td><td style = \"text-align: right;\">490</td><td style = \"text-align: right;\">1.00021</td><td style = \"text-align: right;\">0.400543</td><td style = \"text-align: right;\">24854</td><td style = \"text-align: left;\">451_490_7</td><td style = \"text-align: right;\">0.0059992</td><td style = \"text-align: right;\">0.00600044</td><td style = \"text-align: right;\">1.00108</td><td style = \"text-align: right;\">180.396</td><td style = \"text-align: right;\">180.553</td></tr><tr><td class = \"rowNumber\" style = \"font-weight: bold; text-align: right;\">9</td><td style = \"text-align: right;\">8</td><td style = \"text-align: right;\">451</td><td style = \"text-align: right;\">490</td><td style = \"text-align: right;\">0.99927</td><td style = \"text-align: right;\">-2.83003</td><td style = \"text-align: right;\">24854</td><td style = \"text-align: left;\">451_490_8</td><td style = \"text-align: right;\">0.00600029</td><td style = \"text-align: right;\">0.00599591</td><td style = \"text-align: right;\">1.00108</td><td style = \"text-align: right;\">180.227</td><td style = \"text-align: right;\">180.553</td></tr><tr><td class = \"rowNumber\" style = \"font-weight: bold; text-align: right;\">10</td><td style = \"text-align: right;\">9</td><td style = \"text-align: right;\">451</td><td style = \"text-align: right;\">490</td><td style = \"text-align: right;\">1.0017</td><td style = \"text-align: right;\">-2.38001</td><td style = \"text-align: right;\">24854</td><td style = \"text-align: left;\">451_490_9</td><td style = \"text-align: right;\">0.00200012</td><td style = \"text-align: right;\">0.00200351</td><td style = \"text-align: right;\">1.00108</td><td style = \"text-align: right;\">180.664</td><td style = \"text-align: right;\">180.553</td></tr><tr><td class = \"rowNumber\" style = \"font-weight: bold; text-align: right;\">11</td><td style = \"text-align: right;\">10</td><td style = \"text-align: right;\">451</td><td style = \"text-align: right;\">490</td><td style = \"text-align: right;\">1.00207</td><td style = \"text-align: right;\">3.60012</td><td style = \"text-align: right;\">24854</td><td style = \"text-align: left;\">451_490_10</td><td style = \"text-align: right;\">0.00200072</td><td style = \"text-align: right;\">0.00200487</td><td style = \"text-align: right;\">1.00108</td><td style = \"text-align: right;\">180.733</td><td style = \"text-align: right;\">180.553</td></tr><tr><td class = \"rowNumber\" style = \"font-weight: bold; text-align: right;\">12</td><td style = \"text-align: right;\">11</td><td style = \"text-align: right;\">451</td><td style = \"text-align: right;\">490</td><td style = \"text-align: right;\">1.00101</td><td style = \"text-align: right;\">-2.67029</td><td style = \"text-align: right;\">24854</td><td style = \"text-align: left;\">451_490_11</td><td style = \"text-align: right;\">0.00800012</td><td style = \"text-align: right;\">0.0080082</td><td style = \"text-align: right;\">1.00108</td><td style = \"text-align: right;\">180.541</td><td style = \"text-align: right;\">180.553</td></tr><tr><td class = \"rowNumber\" style = \"font-weight: bold; text-align: right;\">13</td><td style = \"text-align: right;\">12</td><td style = \"text-align: right;\">451</td><td style = \"text-align: right;\">490</td><td style = \"text-align: right;\">1.00172</td><td style = \"text-align: right;\">1.1301</td><td style = \"text-align: right;\">24854</td><td style = \"text-align: left;\">451_490_12</td><td style = \"text-align: right;\">0.00600039</td><td style = \"text-align: right;\">0.0060107</td><td style = \"text-align: right;\">1.00108</td><td style = \"text-align: right;\">180.669</td><td style = \"text-align: right;\">180.553</td></tr><tr><td style = \"text-align: right;\">&vellip;</td><td style = \"text-align: right;\">&vellip;</td><td style = \"text-align: right;\">&vellip;</td><td style = \"text-align: right;\">&vellip;</td><td style = \"text-align: right;\">&vellip;</td><td style = \"text-align: right;\">&vellip;</td><td style = \"text-align: right;\">&vellip;</td><td style = \"text-align: right;\">&vellip;</td><td style = \"text-align: right;\">&vellip;</td><td style = \"text-align: right;\">&vellip;</td><td style = \"text-align: right;\">&vellip;</td><td style = \"text-align: right;\">&vellip;</td><td style = \"text-align: right;\">&vellip;</td></tr><tr><td class = \"rowNumber\" style = \"font-weight: bold; text-align: right;\">35989</td><td style = \"text-align: right;\">188</td><td style = \"text-align: right;\">480</td><td style = \"text-align: right;\">540</td><td style = \"text-align: right;\">0.999936</td><td style = \"text-align: right;\">-0.699758</td><td style = \"text-align: right;\">26454</td><td style = \"text-align: left;\">480_540_188</td><td style = \"text-align: right;\">0.0039998</td><td style = \"text-align: right;\">0.00399954</td><td style = \"text-align: right;\">0.998756</td><td style = \"text-align: right;\">-288.666</td><td style = \"text-align: right;\">-288.326</td></tr><tr><td class = \"rowNumber\" style = \"font-weight: bold; text-align: right;\">35990</td><td style = \"text-align: right;\">189</td><td style = \"text-align: right;\">480</td><td style = \"text-align: right;\">540</td><td style = \"text-align: right;\">1.00071</td><td style = \"text-align: right;\">6.95944</td><td style = \"text-align: right;\">26454</td><td style = \"text-align: left;\">480_540_189</td><td style = \"text-align: right;\">0.002</td><td style = \"text-align: right;\">0.00200142</td><td style = \"text-align: right;\">0.998756</td><td style = \"text-align: right;\">-288.888</td><td style = \"text-align: right;\">-288.326</td></tr><tr><td class = \"rowNumber\" style = \"font-weight: bold; text-align: right;\">35991</td><td style = \"text-align: right;\">190</td><td style = \"text-align: right;\">480</td><td style = \"text-align: right;\">540</td><td style = \"text-align: right;\">0.999311</td><td style = \"text-align: right;\">-0.470281</td><td style = \"text-align: right;\">26454</td><td style = \"text-align: left;\">480_540_190</td><td style = \"text-align: right;\">0.00399975</td><td style = \"text-align: right;\">0.00399699</td><td style = \"text-align: right;\">0.998756</td><td style = \"text-align: right;\">-288.486</td><td style = \"text-align: right;\">-288.326</td></tr><tr><td class = \"rowNumber\" style = \"font-weight: bold; text-align: right;\">35992</td><td style = \"text-align: right;\">191</td><td style = \"text-align: right;\">480</td><td style = \"text-align: right;\">540</td><td style = \"text-align: right;\">0.995958</td><td style = \"text-align: right;\">0.799894</td><td style = \"text-align: right;\">26454</td><td style = \"text-align: left;\">480_540_191</td><td style = \"text-align: right;\">0.0400004</td><td style = \"text-align: right;\">0.0398387</td><td style = \"text-align: right;\">0.998756</td><td style = \"text-align: right;\">-287.518</td><td style = \"text-align: right;\">-288.326</td></tr><tr><td class = \"rowNumber\" style = \"font-weight: bold; text-align: right;\">35993</td><td style = \"text-align: right;\">192</td><td style = \"text-align: right;\">480</td><td style = \"text-align: right;\">540</td><td style = \"text-align: right;\">1.0007</td><td style = \"text-align: right;\">-1.72973</td><td style = \"text-align: right;\">26454</td><td style = \"text-align: left;\">480_540_192</td><td style = \"text-align: right;\">0.00200037</td><td style = \"text-align: right;\">0.00200177</td><td style = \"text-align: right;\">0.998756</td><td style = \"text-align: right;\">-288.886</td><td style = \"text-align: right;\">-288.326</td></tr><tr><td class = \"rowNumber\" style = \"font-weight: bold; text-align: right;\">35994</td><td style = \"text-align: right;\">193</td><td style = \"text-align: right;\">480</td><td style = \"text-align: right;\">540</td><td style = \"text-align: right;\">1.00153</td><td style = \"text-align: right;\">-3.88026</td><td style = \"text-align: right;\">26454</td><td style = \"text-align: left;\">480_540_193</td><td style = \"text-align: right;\">0.00799998</td><td style = \"text-align: right;\">0.00801223</td><td style = \"text-align: right;\">0.998756</td><td style = \"text-align: right;\">-289.127</td><td style = \"text-align: right;\">-288.326</td></tr><tr><td class = \"rowNumber\" style = \"font-weight: bold; text-align: right;\">35995</td><td style = \"text-align: right;\">194</td><td style = \"text-align: right;\">480</td><td style = \"text-align: right;\">540</td><td style = \"text-align: right;\">1.00156</td><td style = \"text-align: right;\">4.8399</td><td style = \"text-align: right;\">26454</td><td style = \"text-align: left;\">480_540_194</td><td style = \"text-align: right;\">0.00199977</td><td style = \"text-align: right;\">0.00200288</td><td style = \"text-align: right;\">0.998756</td><td style = \"text-align: right;\">-289.134</td><td style = \"text-align: right;\">-288.326</td></tr><tr><td class = \"rowNumber\" style = \"font-weight: bold; text-align: right;\">35996</td><td style = \"text-align: right;\">195</td><td style = \"text-align: right;\">480</td><td style = \"text-align: right;\">540</td><td style = \"text-align: right;\">1.00033</td><td style = \"text-align: right;\">2.31028</td><td style = \"text-align: right;\">26454</td><td style = \"text-align: left;\">480_540_195</td><td style = \"text-align: right;\">0.00400093</td><td style = \"text-align: right;\">0.00400224</td><td style = \"text-align: right;\">0.998756</td><td style = \"text-align: right;\">-288.779</td><td style = \"text-align: right;\">-288.326</td></tr><tr><td class = \"rowNumber\" style = \"font-weight: bold; text-align: right;\">35997</td><td style = \"text-align: right;\">196</td><td style = \"text-align: right;\">480</td><td style = \"text-align: right;\">540</td><td style = \"text-align: right;\">1.00082</td><td style = \"text-align: right;\">-8.22008</td><td style = \"text-align: right;\">26454</td><td style = \"text-align: left;\">480_540_196</td><td style = \"text-align: right;\">0.00099996</td><td style = \"text-align: right;\">0.00100078</td><td style = \"text-align: right;\">0.998756</td><td style = \"text-align: right;\">-288.922</td><td style = \"text-align: right;\">-288.326</td></tr><tr><td class = \"rowNumber\" style = \"font-weight: bold; text-align: right;\">35998</td><td style = \"text-align: right;\">197</td><td style = \"text-align: right;\">480</td><td style = \"text-align: right;\">540</td><td style = \"text-align: right;\">0.995797</td><td style = \"text-align: right;\">1.16944</td><td style = \"text-align: right;\">26454</td><td style = \"text-align: left;\">480_540_197</td><td style = \"text-align: right;\">0.00400022</td><td style = \"text-align: right;\">0.00398341</td><td style = \"text-align: right;\">0.998756</td><td style = \"text-align: right;\">-287.471</td><td style = \"text-align: right;\">-288.326</td></tr><tr><td class = \"rowNumber\" style = \"font-weight: bold; text-align: right;\">35999</td><td style = \"text-align: right;\">198</td><td style = \"text-align: right;\">480</td><td style = \"text-align: right;\">540</td><td style = \"text-align: right;\">0.999008</td><td style = \"text-align: right;\">-1.54018</td><td style = \"text-align: right;\">26454</td><td style = \"text-align: left;\">480_540_198</td><td style = \"text-align: right;\">0.00599947</td><td style = \"text-align: right;\">0.00599352</td><td style = \"text-align: right;\">0.998756</td><td style = \"text-align: right;\">-288.399</td><td style = \"text-align: right;\">-288.326</td></tr><tr><td class = \"rowNumber\" style = \"font-weight: bold; text-align: right;\">36000</td><td style = \"text-align: right;\">199</td><td style = \"text-align: right;\">480</td><td style = \"text-align: right;\">540</td><td style = \"text-align: right;\">1.00227</td><td style = \"text-align: right;\">-6.53029</td><td style = \"text-align: right;\">26454</td><td style = \"text-align: left;\">480_540_199</td><td style = \"text-align: right;\">0.00400014</td><td style = \"text-align: right;\">0.00400924</td><td style = \"text-align: right;\">0.998756</td><td style = \"text-align: right;\">-289.342</td><td style = \"text-align: right;\">-288.326</td></tr></tbody></table></div>"
      ],
      "text/latex": [
       "\\begin{tabular}{r|ccccccccc}\n",
       "\t& stock\\_id & date\\_id & seconds\\_in\\_bucket & wap & target & time\\_id & row\\_id & weight & \\\\\n",
       "\t\\hline\n",
       "\t& Int64 & Int64 & Int64 & Float64 & Float64 & Int64 & String15 & Float64 & \\\\\n",
       "\t\\hline\n",
       "\t1 & 0 & 451 & 490 & 1.00096 & 1.82033 & 24854 & 451\\_490\\_0 & 0.004 & $\\dots$ \\\\\n",
       "\t2 & 1 & 451 & 490 & 1.00326 & 5.78046 & 24854 & 451\\_490\\_1 & 0.00099987 & $\\dots$ \\\\\n",
       "\t3 & 2 & 451 & 490 & 0.99922 & 4.99964 & 24854 & 451\\_490\\_2 & 0.00200041 & $\\dots$ \\\\\n",
       "\t4 & 3 & 451 & 490 & 1.00087 & 0.369549 & 24854 & 451\\_490\\_3 & 0.00599891 & $\\dots$ \\\\\n",
       "\t5 & 4 & 451 & 490 & 1.00009 & -1.27971 & 24854 & 451\\_490\\_4 & 0.00400068 & $\\dots$ \\\\\n",
       "\t6 & 5 & 451 & 490 & 1.00187 & -7.28011 & 24854 & 451\\_490\\_5 & 0.00399949 & $\\dots$ \\\\\n",
       "\t7 & 6 & 451 & 490 & 0.997284 & -8.55982 & 24854 & 451\\_490\\_6 & 0.00200014 & $\\dots$ \\\\\n",
       "\t8 & 7 & 451 & 490 & 1.00021 & 0.400543 & 24854 & 451\\_490\\_7 & 0.0059992 & $\\dots$ \\\\\n",
       "\t9 & 8 & 451 & 490 & 0.99927 & -2.83003 & 24854 & 451\\_490\\_8 & 0.00600029 & $\\dots$ \\\\\n",
       "\t10 & 9 & 451 & 490 & 1.0017 & -2.38001 & 24854 & 451\\_490\\_9 & 0.00200012 & $\\dots$ \\\\\n",
       "\t11 & 10 & 451 & 490 & 1.00207 & 3.60012 & 24854 & 451\\_490\\_10 & 0.00200072 & $\\dots$ \\\\\n",
       "\t12 & 11 & 451 & 490 & 1.00101 & -2.67029 & 24854 & 451\\_490\\_11 & 0.00800012 & $\\dots$ \\\\\n",
       "\t13 & 12 & 451 & 490 & 1.00172 & 1.1301 & 24854 & 451\\_490\\_12 & 0.00600039 & $\\dots$ \\\\\n",
       "\t14 & 13 & 451 & 490 & 1.00222 & 2.01941 & 24854 & 451\\_490\\_13 & 0.00200007 & $\\dots$ \\\\\n",
       "\t15 & 14 & 451 & 490 & 1.00114 & 3.11971 & 24854 & 451\\_490\\_14 & 0.0080014 & $\\dots$ \\\\\n",
       "\t16 & 15 & 451 & 490 & 1.00272 & -2.12014 & 24854 & 451\\_490\\_15 & 0.00600051 & $\\dots$ \\\\\n",
       "\t17 & 16 & 451 & 490 & 1.00354 & 3.19004 & 24854 & 451\\_490\\_16 & 0.00199993 & $\\dots$ \\\\\n",
       "\t18 & 17 & 451 & 490 & 0.999374 & -5.89013 & 24854 & 451\\_490\\_17 & 0.0059999 & $\\dots$ \\\\\n",
       "\t19 & 18 & 451 & 490 & 1.00447 & 2.18034 & 24854 & 451\\_490\\_18 & 0.00400013 & $\\dots$ \\\\\n",
       "\t20 & 19 & 451 & 490 & 0.997621 & 13.0701 & 24854 & 451\\_490\\_19 & 0.00199974 & $\\dots$ \\\\\n",
       "\t21 & 20 & 451 & 490 & 1.00251 & 9.16958 & 24854 & 451\\_490\\_20 & 0.00399933 & $\\dots$ \\\\\n",
       "\t22 & 21 & 451 & 490 & 0.998409 & 13.7699 & 24854 & 451\\_490\\_21 & 0.00099993 & $\\dots$ \\\\\n",
       "\t23 & 22 & 451 & 490 & 1.0011 & -3.31998 & 24854 & 451\\_490\\_22 & 0.00599955 & $\\dots$ \\\\\n",
       "\t24 & 23 & 451 & 490 & 1.00022 & 1.59025 & 24854 & 451\\_490\\_23 & 0.00399971 & $\\dots$ \\\\\n",
       "\t$\\dots$ & $\\dots$ & $\\dots$ & $\\dots$ & $\\dots$ & $\\dots$ & $\\dots$ & $\\dots$ & $\\dots$ &  \\\\\n",
       "\\end{tabular}\n"
      ],
      "text/plain": [
       "\u001b[1m36000×12 DataFrame\u001b[0m\n",
       "\u001b[1m   Row \u001b[0m│\u001b[1m stock_id \u001b[0m\u001b[1m date_id \u001b[0m\u001b[1m seconds_in_bucket \u001b[0m\u001b[1m wap      \u001b[0m\u001b[1m target    \u001b[0m\u001b[1m time_id \u001b[0m\u001b[1m r\u001b[0m ⋯\n",
       "       │\u001b[90m Int64    \u001b[0m\u001b[90m Int64   \u001b[0m\u001b[90m Int64             \u001b[0m\u001b[90m Float64  \u001b[0m\u001b[90m Float64   \u001b[0m\u001b[90m Int64   \u001b[0m\u001b[90m S\u001b[0m ⋯\n",
       "───────┼────────────────────────────────────────────────────────────────────────\n",
       "     1 │        0      451                490  1.00096    1.82033     24854  4 ⋯\n",
       "     2 │        1      451                490  1.00326    5.78046     24854  4\n",
       "     3 │        2      451                490  0.99922    4.99964     24854  4\n",
       "     4 │        3      451                490  1.00087    0.369549    24854  4\n",
       "     5 │        4      451                490  1.00009   -1.27971     24854  4 ⋯\n",
       "     6 │        5      451                490  1.00187   -7.28011     24854  4\n",
       "     7 │        6      451                490  0.997284  -8.55982     24854  4\n",
       "     8 │        7      451                490  1.00021    0.400543    24854  4\n",
       "   ⋮   │    ⋮         ⋮             ⋮             ⋮          ⋮         ⋮       ⋱\n",
       " 35994 │      193      480                540  1.00153   -3.88026     26454  4 ⋯\n",
       " 35995 │      194      480                540  1.00156    4.8399      26454  4\n",
       " 35996 │      195      480                540  1.00033    2.31028     26454  4\n",
       " 35997 │      196      480                540  1.00082   -8.22008     26454  4\n",
       " 35998 │      197      480                540  0.995797   1.16944     26454  4 ⋯\n",
       " 35999 │      198      480                540  0.999008  -1.54018     26454  4\n",
       " 36000 │      199      480                540  1.00227   -6.53029     26454  4\n",
       "\u001b[36m                                                6 columns and 35985 rows omitted\u001b[0m"
      ]
     },
     "metadata": {},
     "output_type": "display_data"
    }
   ],
   "source": [
    "df_simplified"
   ]
  },
  {
   "cell_type": "code",
   "execution_count": 7,
   "metadata": {},
   "outputs": [],
   "source": []
  }
 ],
 "metadata": {
  "kernelspec": {
   "display_name": "Julia 1.9.3",
   "language": "julia",
   "name": "julia-1.9"
  },
  "language_info": {
   "file_extension": ".jl",
   "mimetype": "application/julia",
   "name": "julia",
   "version": "1.9.3"
  }
 },
 "nbformat": 4,
 "nbformat_minor": 2
}
