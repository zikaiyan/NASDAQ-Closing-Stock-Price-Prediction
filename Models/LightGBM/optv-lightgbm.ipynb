{
 "cells": [
  {
   "cell_type": "code",
   "execution_count": 1,
   "id": "78674a40",
   "metadata": {
    "execution": {
     "iopub.execute_input": "2023-10-09T11:00:48.964534Z",
     "iopub.status.busy": "2023-10-09T11:00:48.964122Z",
     "iopub.status.idle": "2023-10-09T11:00:53.206339Z",
     "shell.execute_reply": "2023-10-09T11:00:53.205018Z"
    },
    "papermill": {
     "duration": 4.252871,
     "end_time": "2023-10-09T11:00:53.208707",
     "exception": false,
     "start_time": "2023-10-09T11:00:48.955836",
     "status": "completed"
    },
    "tags": []
   },
   "outputs": [],
   "source": [
    "import pandas as pd\n",
    "import numpy as np\n",
    "\n",
    "from itertools import groupby\n",
    "from sklearn.model_selection import train_test_split\n",
    "import lightgbm as lgb\n",
    "import gc\n",
    "from itertools import combinations\n",
    "from sklearn.decomposition import PCA\n",
    "import plotly.express as px\n",
    "\n",
    "import warnings\n",
    "warnings.filterwarnings(\"ignore\")\n",
    "from warnings import simplefilter\n",
    "simplefilter(action=\"ignore\", category=pd.errors.PerformanceWarning)"
   ]
  },
  {
   "cell_type": "code",
   "execution_count": 2,
   "id": "d86a5406",
   "metadata": {
    "execution": {
     "iopub.execute_input": "2023-10-09T11:00:53.219502Z",
     "iopub.status.busy": "2023-10-09T11:00:53.219072Z",
     "iopub.status.idle": "2023-10-09T11:01:14.053503Z",
     "shell.execute_reply": "2023-10-09T11:01:14.052423Z"
    },
    "papermill": {
     "duration": 20.842305,
     "end_time": "2023-10-09T11:01:14.055843",
     "exception": false,
     "start_time": "2023-10-09T11:00:53.213538",
     "status": "completed"
    },
    "tags": []
   },
   "outputs": [],
   "source": [
    "train = pd.read_csv('/kaggle/input/optiver-trading-at-the-close/train.csv')\n",
    "revealed_targets = pd.read_csv('/kaggle/input/optiver-trading-at-the-close/example_test_files/revealed_targets.csv')\n",
    "test = pd.read_csv('/kaggle/input/optiver-trading-at-the-close/example_test_files/test.csv')\n",
    "sample_submission = pd.read_csv('/kaggle/input/optiver-trading-at-the-close/example_test_files/sample_submission.csv')"
   ]
  },
  {
   "cell_type": "markdown",
   "id": "bcc07b5b",
   "metadata": {
    "papermill": {
     "duration": 0.004679,
     "end_time": "2023-10-09T11:01:14.065051",
     "exception": false,
     "start_time": "2023-10-09T11:01:14.060372",
     "status": "completed"
    },
    "tags": []
   },
   "source": [
    "Add median MedianVolV2.csv from the [Optiver|Baseline|Models](https://www.kaggle.com/code/ravi20076/optiver-baseline-models)"
   ]
  },
  {
   "cell_type": "code",
   "execution_count": 3,
   "id": "bb299628",
   "metadata": {
    "execution": {
     "iopub.execute_input": "2023-10-09T11:01:14.075167Z",
     "iopub.status.busy": "2023-10-09T11:01:14.074776Z",
     "iopub.status.idle": "2023-10-09T11:01:14.101671Z",
     "shell.execute_reply": "2023-10-09T11:01:14.099755Z"
    },
    "papermill": {
     "duration": 0.035273,
     "end_time": "2023-10-09T11:01:14.104566",
     "exception": false,
     "start_time": "2023-10-09T11:01:14.069293",
     "status": "completed"
    },
    "tags": []
   },
   "outputs": [],
   "source": [
    "median_vol = pd.read_csv(\"/kaggle/input/optiver-memoryreduceddatasets/MedianVolV2.csv\")\n",
    "median_vol.index.name = \"stock_id\";\n",
    "median_vol = median_vol[['overall_medvol', \"first5min_medvol\", \"last5min_medvol\"]]"
   ]
  },
  {
   "cell_type": "code",
   "execution_count": 4,
   "id": "2d0b999f",
   "metadata": {
    "execution": {
     "iopub.execute_input": "2023-10-09T11:01:14.115408Z",
     "iopub.status.busy": "2023-10-09T11:01:14.114987Z",
     "iopub.status.idle": "2023-10-09T11:01:15.181936Z",
     "shell.execute_reply": "2023-10-09T11:01:15.180611Z"
    },
    "papermill": {
     "duration": 1.076631,
     "end_time": "2023-10-09T11:01:15.185462",
     "exception": false,
     "start_time": "2023-10-09T11:01:14.108831",
     "status": "completed"
    },
    "tags": []
   },
   "outputs": [],
   "source": [
    "median_sizes = train.groupby('stock_id')['bid_size'].median() + train.groupby('stock_id')['ask_size'].median()\n",
    "std_sizes = train.groupby('stock_id')['bid_size'].median() + train.groupby('stock_id')['ask_size'].median()"
   ]
  },
  {
   "cell_type": "code",
   "execution_count": null,
   "id": "5c356f22",
   "metadata": {
    "papermill": {
     "duration": 0.003939,
     "end_time": "2023-10-09T11:01:15.193700",
     "exception": false,
     "start_time": "2023-10-09T11:01:15.189761",
     "status": "completed"
    },
    "tags": []
   },
   "outputs": [],
   "source": []
  },
  {
   "cell_type": "code",
   "execution_count": 5,
   "id": "faff9964",
   "metadata": {
    "execution": {
     "iopub.execute_input": "2023-10-09T11:01:15.203964Z",
     "iopub.status.busy": "2023-10-09T11:01:15.203592Z",
     "iopub.status.idle": "2023-10-09T11:01:15.215778Z",
     "shell.execute_reply": "2023-10-09T11:01:15.214625Z"
    },
    "papermill": {
     "duration": 0.020752,
     "end_time": "2023-10-09T11:01:15.218499",
     "exception": false,
     "start_time": "2023-10-09T11:01:15.197747",
     "status": "completed"
    },
    "tags": []
   },
   "outputs": [],
   "source": [
    "def feat_eng(df):\n",
    "    \n",
    "    cols = [c for c in df.columns if c not in ['row_id', 'time_id']]\n",
    "    df = df[cols]\n",
    "    df = df.merge(median_vol, how = \"left\", left_on = \"stock_id\", right_index = True)\n",
    "    \n",
    "    df['bid_plus_ask_sizes'] = df['bid_size'] + train['ask_size']\n",
    "#     df['median_size'] = df['stock_id'].map(median_sizes.to_dict())\n",
    "    df['std_size'] = df['stock_id'].map(std_sizes.to_dict())\n",
    "#     df['high_volume'] = np.where(df['bid_plus_ask_sizes'] > df['median_size'], 1, 0) \n",
    "    df['imbalance_ratio'] = df['imbalance_size'] / df['matched_size']\n",
    "    \n",
    "    df['imb_s1'] = df.eval('(bid_size-ask_size)/(bid_size+ask_size)')\n",
    "    df['imb_s2'] = df.eval('(imbalance_size-matched_size)/(matched_size+imbalance_size)')\n",
    "\n",
    "    df['ask_x_size'] = df.eval('ask_size*ask_price')\n",
    "    df['bid_x_size'] = df.eval('bid_size*bid_price')\n",
    "        \n",
    "    df['ask_minus_bid'] = df['ask_x_size'] - df['bid_x_size'] \n",
    "    \n",
    "    df[\"bid_size_over_ask_size\"] = df[\"bid_size\"].div(df[\"ask_size\"])\n",
    "    df[\"bid_price_over_ask_price\"] = df[\"bid_price\"].div(df[\"ask_price\"])\n",
    "    \n",
    "    prices = ['reference_price','far_price', 'near_price', 'ask_price', 'bid_price', 'wap']\n",
    "    \n",
    "    for c in combinations(prices, 2):\n",
    "        \n",
    "        df[f'{c[0]}_minus_{c[1]}'] = (df[f'{c[0]}'] - df[f'{c[1]}']).astype(np.float32)\n",
    "        df[f'{c[0]}_times_{c[1]}'] = (df[f'{c[0]}'] * df[f'{c[1]}']).astype(np.float32)\n",
    "        df[f'{c[0]}_{c[1]}_imb'] = df.eval(f'({c[0]}-{c[1]})/({c[0]}+{c[1]})')\n",
    "\n",
    "    for c in combinations(prices, 3):\n",
    "        \n",
    "        max_ = df[list(c)].max(axis=1)\n",
    "        min_ = df[list(c)].min(axis=1)\n",
    "        mid_ = df[list(c)].sum(axis=1)-min_-max_\n",
    "\n",
    "        df[f'{c[0]}_{c[1]}_{c[2]}_imb2'] = (max_-mid_)/(mid_-min_)\n",
    "    \n",
    "        \n",
    "    df.drop(columns=[\n",
    "        'date_id', \n",
    "        'reference_price_far_price_imb',\n",
    "        'reference_price_minus_near_price',\n",
    "        'reference_price_near_price_imb',\n",
    "        'far_price_near_price_imb',\n",
    "        'far_price_ask_price_imb',\n",
    "        'far_price_bid_price_imb',\n",
    "        'far_price_minus_wap',\n",
    "        'std_size',\n",
    "        'bid_size_over_ask_size',\n",
    "        'ask_price_bid_price_imb',\n",
    "        'near_price_times_wap'\n",
    "    ], inplace=True)\n",
    "        \n",
    "    gc.collect()\n",
    "    \n",
    "    return df"
   ]
  },
  {
   "cell_type": "code",
   "execution_count": 6,
   "id": "79bd79be",
   "metadata": {
    "execution": {
     "iopub.execute_input": "2023-10-09T11:01:15.229963Z",
     "iopub.status.busy": "2023-10-09T11:01:15.229526Z",
     "iopub.status.idle": "2023-10-09T11:02:34.663811Z",
     "shell.execute_reply": "2023-10-09T11:02:34.662901Z"
    },
    "papermill": {
     "duration": 79.446637,
     "end_time": "2023-10-09T11:02:34.669955",
     "exception": false,
     "start_time": "2023-10-09T11:01:15.223318",
     "status": "completed"
    },
    "tags": []
   },
   "outputs": [
    {
     "name": "stdout",
     "output_type": "stream",
     "text": [
      "CPU times: user 1min 2s, sys: 17.3 s, total: 1min 19s\n",
      "Wall time: 1min 19s\n"
     ]
    }
   ],
   "source": [
    "%%time\n",
    "\n",
    "y = train['target'].values\n",
    "X = feat_eng(train.drop(columns='target'))"
   ]
  },
  {
   "cell_type": "code",
   "execution_count": 7,
   "id": "05735d8a",
   "metadata": {
    "execution": {
     "iopub.execute_input": "2023-10-09T11:02:34.680422Z",
     "iopub.status.busy": "2023-10-09T11:02:34.679992Z",
     "iopub.status.idle": "2023-10-09T11:02:41.073179Z",
     "shell.execute_reply": "2023-10-09T11:02:41.071685Z"
    },
    "papermill": {
     "duration": 6.401224,
     "end_time": "2023-10-09T11:02:41.075570",
     "exception": false,
     "start_time": "2023-10-09T11:02:34.674346",
     "status": "completed"
    },
    "tags": []
   },
   "outputs": [],
   "source": [
    "prices = [c for c in train.columns if 'price' in c]\n",
    "pca_prices = PCA(n_components=1)\n",
    "X['pca_prices'] = pca_prices.fit_transform(X[prices].fillna(1))"
   ]
  },
  {
   "cell_type": "code",
   "execution_count": 8,
   "id": "2c15687f",
   "metadata": {
    "execution": {
     "iopub.execute_input": "2023-10-09T11:02:41.086029Z",
     "iopub.status.busy": "2023-10-09T11:02:41.085656Z",
     "iopub.status.idle": "2023-10-09T11:02:42.537788Z",
     "shell.execute_reply": "2023-10-09T11:02:42.536615Z"
    },
    "papermill": {
     "duration": 1.460216,
     "end_time": "2023-10-09T11:02:42.540278",
     "exception": false,
     "start_time": "2023-10-09T11:02:41.080062",
     "status": "completed"
    },
    "tags": []
   },
   "outputs": [
    {
     "data": {
      "text/html": [
       "<div>\n",
       "<style scoped>\n",
       "    .dataframe tbody tr th:only-of-type {\n",
       "        vertical-align: middle;\n",
       "    }\n",
       "\n",
       "    .dataframe tbody tr th {\n",
       "        vertical-align: top;\n",
       "    }\n",
       "\n",
       "    .dataframe thead th {\n",
       "        text-align: right;\n",
       "    }\n",
       "</style>\n",
       "<table border=\"1\" class=\"dataframe\">\n",
       "  <thead>\n",
       "    <tr style=\"text-align: right;\">\n",
       "      <th></th>\n",
       "      <th>stock_id</th>\n",
       "      <th>seconds_in_bucket</th>\n",
       "      <th>imbalance_size</th>\n",
       "      <th>imbalance_buy_sell_flag</th>\n",
       "      <th>reference_price</th>\n",
       "      <th>matched_size</th>\n",
       "      <th>far_price</th>\n",
       "      <th>near_price</th>\n",
       "      <th>bid_price</th>\n",
       "      <th>bid_size</th>\n",
       "      <th>...</th>\n",
       "      <th>far_price_near_price_bid_price_imb2</th>\n",
       "      <th>far_price_near_price_wap_imb2</th>\n",
       "      <th>far_price_ask_price_bid_price_imb2</th>\n",
       "      <th>far_price_ask_price_wap_imb2</th>\n",
       "      <th>far_price_bid_price_wap_imb2</th>\n",
       "      <th>near_price_ask_price_bid_price_imb2</th>\n",
       "      <th>near_price_ask_price_wap_imb2</th>\n",
       "      <th>near_price_bid_price_wap_imb2</th>\n",
       "      <th>ask_price_bid_price_wap_imb2</th>\n",
       "      <th>pca_prices</th>\n",
       "    </tr>\n",
       "  </thead>\n",
       "  <tbody>\n",
       "    <tr>\n",
       "      <th>0</th>\n",
       "      <td>0</td>\n",
       "      <td>0</td>\n",
       "      <td>3180602.69</td>\n",
       "      <td>1</td>\n",
       "      <td>0.999812</td>\n",
       "      <td>13380276.64</td>\n",
       "      <td>NaN</td>\n",
       "      <td>NaN</td>\n",
       "      <td>0.999812</td>\n",
       "      <td>60651.50</td>\n",
       "      <td>...</td>\n",
       "      <td>-1.000000e+00</td>\n",
       "      <td>-1.000000e+00</td>\n",
       "      <td>-1.000214e+00</td>\n",
       "      <td>-1.000026e+00</td>\n",
       "      <td>-1.000188</td>\n",
       "      <td>-1.000214e+00</td>\n",
       "      <td>-1.000026e+00</td>\n",
       "      <td>-1.000188</td>\n",
       "      <td>0.138298</td>\n",
       "      <td>-0.000766</td>\n",
       "    </tr>\n",
       "    <tr>\n",
       "      <th>1</th>\n",
       "      <td>1</td>\n",
       "      <td>0</td>\n",
       "      <td>166603.91</td>\n",
       "      <td>-1</td>\n",
       "      <td>0.999896</td>\n",
       "      <td>1642214.25</td>\n",
       "      <td>NaN</td>\n",
       "      <td>NaN</td>\n",
       "      <td>0.999896</td>\n",
       "      <td>3233.04</td>\n",
       "      <td>...</td>\n",
       "      <td>-1.000000e+00</td>\n",
       "      <td>-1.000000e+00</td>\n",
       "      <td>-1.000764e+00</td>\n",
       "      <td>-1.000660e+00</td>\n",
       "      <td>-1.000104</td>\n",
       "      <td>-1.000764e+00</td>\n",
       "      <td>-1.000660e+00</td>\n",
       "      <td>-1.000104</td>\n",
       "      <td>6.346154</td>\n",
       "      <td>-0.000766</td>\n",
       "    </tr>\n",
       "    <tr>\n",
       "      <th>2</th>\n",
       "      <td>2</td>\n",
       "      <td>0</td>\n",
       "      <td>302879.87</td>\n",
       "      <td>-1</td>\n",
       "      <td>0.999561</td>\n",
       "      <td>1819368.03</td>\n",
       "      <td>NaN</td>\n",
       "      <td>NaN</td>\n",
       "      <td>0.999403</td>\n",
       "      <td>37956.00</td>\n",
       "      <td>...</td>\n",
       "      <td>-1.000000e+00</td>\n",
       "      <td>-1.000000e+00</td>\n",
       "      <td>-1.000896e+00</td>\n",
       "      <td>-1.000298e+00</td>\n",
       "      <td>-1.000597</td>\n",
       "      <td>-1.000896e+00</td>\n",
       "      <td>-1.000298e+00</td>\n",
       "      <td>-1.000597</td>\n",
       "      <td>0.499162</td>\n",
       "      <td>-0.000766</td>\n",
       "    </tr>\n",
       "    <tr>\n",
       "      <th>3</th>\n",
       "      <td>3</td>\n",
       "      <td>0</td>\n",
       "      <td>11917682.27</td>\n",
       "      <td>-1</td>\n",
       "      <td>1.000171</td>\n",
       "      <td>18389745.62</td>\n",
       "      <td>NaN</td>\n",
       "      <td>NaN</td>\n",
       "      <td>0.999999</td>\n",
       "      <td>2324.90</td>\n",
       "      <td>...</td>\n",
       "      <td>-1.000000e+00</td>\n",
       "      <td>-1.000000e+00</td>\n",
       "      <td>-1.000215e+00</td>\n",
       "      <td>-1.000214e+00</td>\n",
       "      <td>-1.000001</td>\n",
       "      <td>-1.000215e+00</td>\n",
       "      <td>-1.000214e+00</td>\n",
       "      <td>-1.000001</td>\n",
       "      <td>214.000000</td>\n",
       "      <td>-0.000766</td>\n",
       "    </tr>\n",
       "    <tr>\n",
       "      <th>4</th>\n",
       "      <td>4</td>\n",
       "      <td>0</td>\n",
       "      <td>447549.96</td>\n",
       "      <td>-1</td>\n",
       "      <td>0.999532</td>\n",
       "      <td>17860614.95</td>\n",
       "      <td>NaN</td>\n",
       "      <td>NaN</td>\n",
       "      <td>0.999394</td>\n",
       "      <td>16485.54</td>\n",
       "      <td>...</td>\n",
       "      <td>-1.000000e+00</td>\n",
       "      <td>-1.000000e+00</td>\n",
       "      <td>-1.000622e+00</td>\n",
       "      <td>-1.000016e+00</td>\n",
       "      <td>-1.000606</td>\n",
       "      <td>-1.000622e+00</td>\n",
       "      <td>-1.000016e+00</td>\n",
       "      <td>-1.000606</td>\n",
       "      <td>0.026403</td>\n",
       "      <td>-0.000766</td>\n",
       "    </tr>\n",
       "    <tr>\n",
       "      <th>...</th>\n",
       "      <td>...</td>\n",
       "      <td>...</td>\n",
       "      <td>...</td>\n",
       "      <td>...</td>\n",
       "      <td>...</td>\n",
       "      <td>...</td>\n",
       "      <td>...</td>\n",
       "      <td>...</td>\n",
       "      <td>...</td>\n",
       "      <td>...</td>\n",
       "      <td>...</td>\n",
       "      <td>...</td>\n",
       "      <td>...</td>\n",
       "      <td>...</td>\n",
       "      <td>...</td>\n",
       "      <td>...</td>\n",
       "      <td>...</td>\n",
       "      <td>...</td>\n",
       "      <td>...</td>\n",
       "      <td>...</td>\n",
       "      <td>...</td>\n",
       "    </tr>\n",
       "    <tr>\n",
       "      <th>5237975</th>\n",
       "      <td>195</td>\n",
       "      <td>540</td>\n",
       "      <td>2440722.89</td>\n",
       "      <td>-1</td>\n",
       "      <td>1.000317</td>\n",
       "      <td>28280361.74</td>\n",
       "      <td>0.999734</td>\n",
       "      <td>0.999734</td>\n",
       "      <td>1.000317</td>\n",
       "      <td>32257.04</td>\n",
       "      <td>...</td>\n",
       "      <td>5.251197e+12</td>\n",
       "      <td>-1.783425e+12</td>\n",
       "      <td>2.006861e-01</td>\n",
       "      <td>1.784512e-01</td>\n",
       "      <td>0.018868</td>\n",
       "      <td>2.006861e-01</td>\n",
       "      <td>1.784512e-01</td>\n",
       "      <td>0.018868</td>\n",
       "      <td>9.636364</td>\n",
       "      <td>-0.001032</td>\n",
       "    </tr>\n",
       "    <tr>\n",
       "      <th>5237976</th>\n",
       "      <td>196</td>\n",
       "      <td>540</td>\n",
       "      <td>349510.47</td>\n",
       "      <td>-1</td>\n",
       "      <td>1.000643</td>\n",
       "      <td>9187699.11</td>\n",
       "      <td>1.000129</td>\n",
       "      <td>1.000386</td>\n",
       "      <td>1.000643</td>\n",
       "      <td>205108.40</td>\n",
       "      <td>...</td>\n",
       "      <td>1.000000e+00</td>\n",
       "      <td>1.684825e+00</td>\n",
       "      <td>5.000000e-01</td>\n",
       "      <td>1.173913e-01</td>\n",
       "      <td>0.342412</td>\n",
       "      <td>1.000000e+00</td>\n",
       "      <td>1.870670e-01</td>\n",
       "      <td>0.684825</td>\n",
       "      <td>0.460227</td>\n",
       "      <td>-0.000637</td>\n",
       "    </tr>\n",
       "    <tr>\n",
       "      <th>5237977</th>\n",
       "      <td>197</td>\n",
       "      <td>540</td>\n",
       "      <td>0.00</td>\n",
       "      <td>0</td>\n",
       "      <td>0.995789</td>\n",
       "      <td>12725436.10</td>\n",
       "      <td>0.995789</td>\n",
       "      <td>0.995789</td>\n",
       "      <td>0.995789</td>\n",
       "      <td>16790.66</td>\n",
       "      <td>...</td>\n",
       "      <td>-1.000000e+00</td>\n",
       "      <td>inf</td>\n",
       "      <td>-2.822256e+11</td>\n",
       "      <td>1.075000e+01</td>\n",
       "      <td>inf</td>\n",
       "      <td>-2.822256e+11</td>\n",
       "      <td>1.075000e+01</td>\n",
       "      <td>inf</td>\n",
       "      <td>10.750000</td>\n",
       "      <td>-0.004980</td>\n",
       "    </tr>\n",
       "    <tr>\n",
       "      <th>5237978</th>\n",
       "      <td>198</td>\n",
       "      <td>540</td>\n",
       "      <td>1000898.84</td>\n",
       "      <td>1</td>\n",
       "      <td>0.999210</td>\n",
       "      <td>94773271.05</td>\n",
       "      <td>0.999210</td>\n",
       "      <td>0.999210</td>\n",
       "      <td>0.998970</td>\n",
       "      <td>125631.72</td>\n",
       "      <td>...</td>\n",
       "      <td>-9.251859e-13</td>\n",
       "      <td>-1.099231e-12</td>\n",
       "      <td>-9.251859e-13</td>\n",
       "      <td>-1.099231e-12</td>\n",
       "      <td>5.315789</td>\n",
       "      <td>-9.251859e-13</td>\n",
       "      <td>-1.099231e-12</td>\n",
       "      <td>5.315789</td>\n",
       "      <td>5.315789</td>\n",
       "      <td>-0.001557</td>\n",
       "    </tr>\n",
       "    <tr>\n",
       "      <th>5237979</th>\n",
       "      <td>199</td>\n",
       "      <td>540</td>\n",
       "      <td>1884285.71</td>\n",
       "      <td>-1</td>\n",
       "      <td>1.002129</td>\n",
       "      <td>24073677.32</td>\n",
       "      <td>1.000859</td>\n",
       "      <td>1.001494</td>\n",
       "      <td>1.002129</td>\n",
       "      <td>250081.44</td>\n",
       "      <td>...</td>\n",
       "      <td>1.000000e+00</td>\n",
       "      <td>1.228346e+00</td>\n",
       "      <td>2.503937e-01</td>\n",
       "      <td>1.222615e-01</td>\n",
       "      <td>0.114173</td>\n",
       "      <td>5.007874e-01</td>\n",
       "      <td>2.217949e-01</td>\n",
       "      <td>0.228346</td>\n",
       "      <td>1.193103</td>\n",
       "      <td>0.000094</td>\n",
       "    </tr>\n",
       "  </tbody>\n",
       "</table>\n",
       "<p>5237980 rows × 81 columns</p>\n",
       "</div>"
      ],
      "text/plain": [
       "         stock_id  seconds_in_bucket  imbalance_size  imbalance_buy_sell_flag  \\\n",
       "0               0                  0      3180602.69                        1   \n",
       "1               1                  0       166603.91                       -1   \n",
       "2               2                  0       302879.87                       -1   \n",
       "3               3                  0     11917682.27                       -1   \n",
       "4               4                  0       447549.96                       -1   \n",
       "...           ...                ...             ...                      ...   \n",
       "5237975       195                540      2440722.89                       -1   \n",
       "5237976       196                540       349510.47                       -1   \n",
       "5237977       197                540            0.00                        0   \n",
       "5237978       198                540      1000898.84                        1   \n",
       "5237979       199                540      1884285.71                       -1   \n",
       "\n",
       "         reference_price  matched_size  far_price  near_price  bid_price  \\\n",
       "0               0.999812   13380276.64        NaN         NaN   0.999812   \n",
       "1               0.999896    1642214.25        NaN         NaN   0.999896   \n",
       "2               0.999561    1819368.03        NaN         NaN   0.999403   \n",
       "3               1.000171   18389745.62        NaN         NaN   0.999999   \n",
       "4               0.999532   17860614.95        NaN         NaN   0.999394   \n",
       "...                  ...           ...        ...         ...        ...   \n",
       "5237975         1.000317   28280361.74   0.999734    0.999734   1.000317   \n",
       "5237976         1.000643    9187699.11   1.000129    1.000386   1.000643   \n",
       "5237977         0.995789   12725436.10   0.995789    0.995789   0.995789   \n",
       "5237978         0.999210   94773271.05   0.999210    0.999210   0.998970   \n",
       "5237979         1.002129   24073677.32   1.000859    1.001494   1.002129   \n",
       "\n",
       "          bid_size  ...  far_price_near_price_bid_price_imb2  \\\n",
       "0         60651.50  ...                        -1.000000e+00   \n",
       "1          3233.04  ...                        -1.000000e+00   \n",
       "2         37956.00  ...                        -1.000000e+00   \n",
       "3          2324.90  ...                        -1.000000e+00   \n",
       "4         16485.54  ...                        -1.000000e+00   \n",
       "...            ...  ...                                  ...   \n",
       "5237975   32257.04  ...                         5.251197e+12   \n",
       "5237976  205108.40  ...                         1.000000e+00   \n",
       "5237977   16790.66  ...                        -1.000000e+00   \n",
       "5237978  125631.72  ...                        -9.251859e-13   \n",
       "5237979  250081.44  ...                         1.000000e+00   \n",
       "\n",
       "         far_price_near_price_wap_imb2  far_price_ask_price_bid_price_imb2  \\\n",
       "0                        -1.000000e+00                       -1.000214e+00   \n",
       "1                        -1.000000e+00                       -1.000764e+00   \n",
       "2                        -1.000000e+00                       -1.000896e+00   \n",
       "3                        -1.000000e+00                       -1.000215e+00   \n",
       "4                        -1.000000e+00                       -1.000622e+00   \n",
       "...                                ...                                 ...   \n",
       "5237975                  -1.783425e+12                        2.006861e-01   \n",
       "5237976                   1.684825e+00                        5.000000e-01   \n",
       "5237977                            inf                       -2.822256e+11   \n",
       "5237978                  -1.099231e-12                       -9.251859e-13   \n",
       "5237979                   1.228346e+00                        2.503937e-01   \n",
       "\n",
       "         far_price_ask_price_wap_imb2  far_price_bid_price_wap_imb2  \\\n",
       "0                       -1.000026e+00                     -1.000188   \n",
       "1                       -1.000660e+00                     -1.000104   \n",
       "2                       -1.000298e+00                     -1.000597   \n",
       "3                       -1.000214e+00                     -1.000001   \n",
       "4                       -1.000016e+00                     -1.000606   \n",
       "...                               ...                           ...   \n",
       "5237975                  1.784512e-01                      0.018868   \n",
       "5237976                  1.173913e-01                      0.342412   \n",
       "5237977                  1.075000e+01                           inf   \n",
       "5237978                 -1.099231e-12                      5.315789   \n",
       "5237979                  1.222615e-01                      0.114173   \n",
       "\n",
       "         near_price_ask_price_bid_price_imb2  near_price_ask_price_wap_imb2  \\\n",
       "0                              -1.000214e+00                  -1.000026e+00   \n",
       "1                              -1.000764e+00                  -1.000660e+00   \n",
       "2                              -1.000896e+00                  -1.000298e+00   \n",
       "3                              -1.000215e+00                  -1.000214e+00   \n",
       "4                              -1.000622e+00                  -1.000016e+00   \n",
       "...                                      ...                            ...   \n",
       "5237975                         2.006861e-01                   1.784512e-01   \n",
       "5237976                         1.000000e+00                   1.870670e-01   \n",
       "5237977                        -2.822256e+11                   1.075000e+01   \n",
       "5237978                        -9.251859e-13                  -1.099231e-12   \n",
       "5237979                         5.007874e-01                   2.217949e-01   \n",
       "\n",
       "         near_price_bid_price_wap_imb2  ask_price_bid_price_wap_imb2  \\\n",
       "0                            -1.000188                      0.138298   \n",
       "1                            -1.000104                      6.346154   \n",
       "2                            -1.000597                      0.499162   \n",
       "3                            -1.000001                    214.000000   \n",
       "4                            -1.000606                      0.026403   \n",
       "...                                ...                           ...   \n",
       "5237975                       0.018868                      9.636364   \n",
       "5237976                       0.684825                      0.460227   \n",
       "5237977                            inf                     10.750000   \n",
       "5237978                       5.315789                      5.315789   \n",
       "5237979                       0.228346                      1.193103   \n",
       "\n",
       "         pca_prices  \n",
       "0         -0.000766  \n",
       "1         -0.000766  \n",
       "2         -0.000766  \n",
       "3         -0.000766  \n",
       "4         -0.000766  \n",
       "...             ...  \n",
       "5237975   -0.001032  \n",
       "5237976   -0.000637  \n",
       "5237977   -0.004980  \n",
       "5237978   -0.001557  \n",
       "5237979    0.000094  \n",
       "\n",
       "[5237980 rows x 81 columns]"
      ]
     },
     "execution_count": 8,
     "metadata": {},
     "output_type": "execute_result"
    }
   ],
   "source": [
    "X"
   ]
  },
  {
   "cell_type": "code",
   "execution_count": 9,
   "id": "ac2a9f1c",
   "metadata": {
    "execution": {
     "iopub.execute_input": "2023-10-09T11:02:42.552207Z",
     "iopub.status.busy": "2023-10-09T11:02:42.551515Z",
     "iopub.status.idle": "2023-10-09T11:19:16.801800Z",
     "shell.execute_reply": "2023-10-09T11:19:16.800287Z"
    },
    "papermill": {
     "duration": 994.268791,
     "end_time": "2023-10-09T11:19:16.814098",
     "exception": false,
     "start_time": "2023-10-09T11:02:42.545307",
     "status": "completed"
    },
    "tags": []
   },
   "outputs": [
    {
     "name": "stdout",
     "output_type": "stream",
     "text": [
      "CPU times: user 54min 12s, sys: 36.8 s, total: 54min 49s\n",
      "Wall time: 16min 34s\n"
     ]
    },
    {
     "data": {
      "text/html": [
       "<style>#sk-container-id-1 {color: black;background-color: white;}#sk-container-id-1 pre{padding: 0;}#sk-container-id-1 div.sk-toggleable {background-color: white;}#sk-container-id-1 label.sk-toggleable__label {cursor: pointer;display: block;width: 100%;margin-bottom: 0;padding: 0.3em;box-sizing: border-box;text-align: center;}#sk-container-id-1 label.sk-toggleable__label-arrow:before {content: \"▸\";float: left;margin-right: 0.25em;color: #696969;}#sk-container-id-1 label.sk-toggleable__label-arrow:hover:before {color: black;}#sk-container-id-1 div.sk-estimator:hover label.sk-toggleable__label-arrow:before {color: black;}#sk-container-id-1 div.sk-toggleable__content {max-height: 0;max-width: 0;overflow: hidden;text-align: left;background-color: #f0f8ff;}#sk-container-id-1 div.sk-toggleable__content pre {margin: 0.2em;color: black;border-radius: 0.25em;background-color: #f0f8ff;}#sk-container-id-1 input.sk-toggleable__control:checked~div.sk-toggleable__content {max-height: 200px;max-width: 100%;overflow: auto;}#sk-container-id-1 input.sk-toggleable__control:checked~label.sk-toggleable__label-arrow:before {content: \"▾\";}#sk-container-id-1 div.sk-estimator input.sk-toggleable__control:checked~label.sk-toggleable__label {background-color: #d4ebff;}#sk-container-id-1 div.sk-label input.sk-toggleable__control:checked~label.sk-toggleable__label {background-color: #d4ebff;}#sk-container-id-1 input.sk-hidden--visually {border: 0;clip: rect(1px 1px 1px 1px);clip: rect(1px, 1px, 1px, 1px);height: 1px;margin: -1px;overflow: hidden;padding: 0;position: absolute;width: 1px;}#sk-container-id-1 div.sk-estimator {font-family: monospace;background-color: #f0f8ff;border: 1px dotted black;border-radius: 0.25em;box-sizing: border-box;margin-bottom: 0.5em;}#sk-container-id-1 div.sk-estimator:hover {background-color: #d4ebff;}#sk-container-id-1 div.sk-parallel-item::after {content: \"\";width: 100%;border-bottom: 1px solid gray;flex-grow: 1;}#sk-container-id-1 div.sk-label:hover label.sk-toggleable__label {background-color: #d4ebff;}#sk-container-id-1 div.sk-serial::before {content: \"\";position: absolute;border-left: 1px solid gray;box-sizing: border-box;top: 0;bottom: 0;left: 50%;z-index: 0;}#sk-container-id-1 div.sk-serial {display: flex;flex-direction: column;align-items: center;background-color: white;padding-right: 0.2em;padding-left: 0.2em;position: relative;}#sk-container-id-1 div.sk-item {position: relative;z-index: 1;}#sk-container-id-1 div.sk-parallel {display: flex;align-items: stretch;justify-content: center;background-color: white;position: relative;}#sk-container-id-1 div.sk-item::before, #sk-container-id-1 div.sk-parallel-item::before {content: \"\";position: absolute;border-left: 1px solid gray;box-sizing: border-box;top: 0;bottom: 0;left: 50%;z-index: -1;}#sk-container-id-1 div.sk-parallel-item {display: flex;flex-direction: column;z-index: 1;position: relative;background-color: white;}#sk-container-id-1 div.sk-parallel-item:first-child::after {align-self: flex-end;width: 50%;}#sk-container-id-1 div.sk-parallel-item:last-child::after {align-self: flex-start;width: 50%;}#sk-container-id-1 div.sk-parallel-item:only-child::after {width: 0;}#sk-container-id-1 div.sk-dashed-wrapped {border: 1px dashed gray;margin: 0 0.4em 0.5em 0.4em;box-sizing: border-box;padding-bottom: 0.4em;background-color: white;}#sk-container-id-1 div.sk-label label {font-family: monospace;font-weight: bold;display: inline-block;line-height: 1.2em;}#sk-container-id-1 div.sk-label-container {text-align: center;}#sk-container-id-1 div.sk-container {/* jupyter's `normalize.less` sets `[hidden] { display: none; }` but bootstrap.min.css set `[hidden] { display: none !important; }` so we also need the `!important` here to be able to override the default hidden behavior on the sphinx rendered scikit-learn.org. See: https://github.com/scikit-learn/scikit-learn/issues/21755 */display: inline-block !important;position: relative;}#sk-container-id-1 div.sk-text-repr-fallback {display: none;}</style><div id=\"sk-container-id-1\" class=\"sk-top-container\"><div class=\"sk-text-repr-fallback\"><pre>LGBMRegressor(learning_rate=0.018052307589575444, max_depth=9, n_estimators=700,\n",
       "              num_leaves=442, objective=&#x27;mae&#x27;, random_state=42,\n",
       "              reg_alpha=0.02216069565875271, reg_lambda=0.01223572246957101)</pre><b>In a Jupyter environment, please rerun this cell to show the HTML representation or trust the notebook. <br />On GitHub, the HTML representation is unable to render, please try loading this page with nbviewer.org.</b></div><div class=\"sk-container\" hidden><div class=\"sk-item\"><div class=\"sk-estimator sk-toggleable\"><input class=\"sk-toggleable__control sk-hidden--visually\" id=\"sk-estimator-id-1\" type=\"checkbox\" checked><label for=\"sk-estimator-id-1\" class=\"sk-toggleable__label sk-toggleable__label-arrow\">LGBMRegressor</label><div class=\"sk-toggleable__content\"><pre>LGBMRegressor(learning_rate=0.018052307589575444, max_depth=9, n_estimators=700,\n",
       "              num_leaves=442, objective=&#x27;mae&#x27;, random_state=42,\n",
       "              reg_alpha=0.02216069565875271, reg_lambda=0.01223572246957101)</pre></div></div></div></div></div>"
      ],
      "text/plain": [
       "LGBMRegressor(learning_rate=0.018052307589575444, max_depth=9, n_estimators=700,\n",
       "              num_leaves=442, objective='mae', random_state=42,\n",
       "              reg_alpha=0.02216069565875271, reg_lambda=0.01223572246957101)"
      ]
     },
     "execution_count": 9,
     "metadata": {},
     "output_type": "execute_result"
    }
   ],
   "source": [
    "%%time\n",
    "\n",
    "m = lgb.LGBMRegressor(learning_rate=0.018052307589575444, max_depth=9, n_estimators=700,\n",
    "              num_leaves=442, objective='mae', random_state=42,\n",
    "              reg_alpha=0.02216069565875271, reg_lambda=0.01223572246957101)\n",
    "m.fit(X, y)"
   ]
  },
  {
   "cell_type": "code",
   "execution_count": 10,
   "id": "b657ad42",
   "metadata": {
    "execution": {
     "iopub.execute_input": "2023-10-09T11:19:16.827898Z",
     "iopub.status.busy": "2023-10-09T11:19:16.827503Z",
     "iopub.status.idle": "2023-10-09T11:19:18.750455Z",
     "shell.execute_reply": "2023-10-09T11:19:18.749277Z"
    },
    "papermill": {
     "duration": 1.933348,
     "end_time": "2023-10-09T11:19:18.752824",
     "exception": false,
     "start_time": "2023-10-09T11:19:16.819476",
     "status": "completed"
    },
    "tags": []
   },
   "outputs": [
    {
     "name": "stdout",
     "output_type": "stream",
     "text": [
      "Columns with poor contribution Index([], dtype='object')\n"
     ]
    },
    {
     "data": {
      "text/html": [
       "        <script type=\"text/javascript\">\n",
       "        window.PlotlyConfig = {MathJaxConfig: 'local'};\n",
       "        if (window.MathJax && window.MathJax.Hub && window.MathJax.Hub.Config) {window.MathJax.Hub.Config({SVG: {font: \"STIX-Web\"}});}\n",
       "        if (typeof require !== 'undefined') {\n",
       "        require.undef(\"plotly\");\n",
       "        requirejs.config({\n",
       "            paths: {\n",
       "                'plotly': ['https://cdn.plot.ly/plotly-2.24.1.min']\n",
       "            }\n",
       "        });\n",
       "        require(['plotly'], function(Plotly) {\n",
       "            window._Plotly = Plotly;\n",
       "        });\n",
       "        }\n",
       "        </script>\n",
       "        "
      ]
     },
     "metadata": {},
     "output_type": "display_data"
    },
    {
     "data": {
      "text/html": [
       "<div>                            <div id=\"cd8541fe-d224-4795-872c-4e78d46f25ee\" class=\"plotly-graph-div\" style=\"height:525px; width:100%;\"></div>            <script type=\"text/javascript\">                require([\"plotly\"], function(Plotly) {                    window.PLOTLYENV=window.PLOTLYENV || {};                                    if (document.getElementById(\"cd8541fe-d224-4795-872c-4e78d46f25ee\")) {                    Plotly.newPlot(                        \"cd8541fe-d224-4795-872c-4e78d46f25ee\",                        [{\"alignmentgroup\":\"True\",\"hovertemplate\":\"x=%{x}\\u003cbr\\u003ey=%{y}\\u003cextra\\u003e\\u003c\\u002fextra\\u003e\",\"legendgroup\":\"\",\"marker\":{\"color\":\"#636efa\",\"pattern\":{\"shape\":\"\"}},\"name\":\"\",\"offsetgroup\":\"\",\"orientation\":\"h\",\"showlegend\":false,\"textposition\":\"auto\",\"x\":[848,867,901,927,940,947,954,956,964,991,993,994,1004,1013,1019,1025,1037,1043,1062,1066,1088,1103,1104,1124,1125,1140,1166,1192,1194,1236,1251,1263,1287,1291,1314,1331,1351,1374,1385,1508,1513,1549,1553,1606,1630,1684,1705,1727,1748,1755,1782,1855,1857,1863,1888,1913,1944,1961,1966,2029,2063,2207,2255,2326,2385,2394,2399,2702,2709,2717,2725,3101,3106,4019,4051,4664,5984,6132,7888,10461,15191],\"xaxis\":\"x\",\"y\":[\"far_price_wap_imb\",\"far_price_times_wap\",\"ask_price_wap_imb\",\"far_price_bid_price_wap_imb2\",\"reference_price_near_price_wap_imb2\",\"reference_price_far_price_wap_imb2\",\"reference_price_times_wap\",\"reference_price_times_far_price\",\"bid_price_wap_imb\",\"near_price_wap_imb\",\"far_price_times_ask_price\",\"near_price_times_bid_price\",\"reference_price_ask_price_imb\",\"far_price_times_bid_price\",\"far_price_ask_price_wap_imb2\",\"near_price_ask_price_imb\",\"far_price_minus_bid_price\",\"ask_price_bid_price_wap_imb2\",\"reference_price_times_near_price\",\"bid_x_size\",\"far_price_minus_ask_price\",\"near_price_bid_price_imb\",\"ask_x_size\",\"reference_price_bid_price_imb\",\"reference_price_minus_far_price\",\"near_price_minus_wap\",\"near_price_bid_price_wap_imb2\",\"reference_price_times_bid_price\",\"bid_price_times_wap\",\"far_price_ask_price_bid_price_imb2\",\"far_price_near_price_wap_imb2\",\"near_price_ask_price_wap_imb2\",\"near_price_times_ask_price\",\"reference_price_wap_imb\",\"reference_price_times_ask_price\",\"far_price_times_near_price\",\"ask_price_times_bid_price\",\"near_price_minus_ask_price\",\"ask_price_times_wap\",\"reference_price_far_price_ask_price_imb2\",\"ask_price_minus_bid_price\",\"near_price_minus_bid_price\",\"pca_prices\",\"reference_price_far_price_bid_price_imb2\",\"near_price_ask_price_bid_price_imb2\",\"far_price\",\"far_price_near_price_ask_price_imb2\",\"near_price\",\"reference_price_minus_ask_price\",\"reference_price_near_price_ask_price_imb2\",\"bid_price_minus_wap\",\"ask_price_minus_wap\",\"reference_price_minus_wap\",\"imb_s1\",\"wap\",\"reference_price_bid_price_wap_imb2\",\"reference_price_near_price_bid_price_imb2\",\"far_price_near_price_bid_price_imb2\",\"reference_price_minus_bid_price\",\"ask_minus_bid\",\"far_price_minus_near_price\",\"reference_price_far_price_near_price_imb2\",\"reference_price\",\"reference_price_ask_price_wap_imb2\",\"bid_price_over_ask_price\",\"imbalance_buy_sell_flag\",\"ask_size\",\"reference_price_ask_price_bid_price_imb2\",\"bid_plus_ask_sizes\",\"ask_price\",\"bid_price\",\"first5min_medvol\",\"bid_size\",\"imb_s2\",\"last5min_medvol\",\"overall_medvol\",\"imbalance_ratio\",\"stock_id\",\"imbalance_size\",\"matched_size\",\"seconds_in_bucket\"],\"yaxis\":\"y\",\"type\":\"bar\"}],                        {\"template\":{\"data\":{\"histogram2dcontour\":[{\"type\":\"histogram2dcontour\",\"colorbar\":{\"outlinewidth\":0,\"ticks\":\"\"},\"colorscale\":[[0.0,\"#0d0887\"],[0.1111111111111111,\"#46039f\"],[0.2222222222222222,\"#7201a8\"],[0.3333333333333333,\"#9c179e\"],[0.4444444444444444,\"#bd3786\"],[0.5555555555555556,\"#d8576b\"],[0.6666666666666666,\"#ed7953\"],[0.7777777777777778,\"#fb9f3a\"],[0.8888888888888888,\"#fdca26\"],[1.0,\"#f0f921\"]]}],\"choropleth\":[{\"type\":\"choropleth\",\"colorbar\":{\"outlinewidth\":0,\"ticks\":\"\"}}],\"histogram2d\":[{\"type\":\"histogram2d\",\"colorbar\":{\"outlinewidth\":0,\"ticks\":\"\"},\"colorscale\":[[0.0,\"#0d0887\"],[0.1111111111111111,\"#46039f\"],[0.2222222222222222,\"#7201a8\"],[0.3333333333333333,\"#9c179e\"],[0.4444444444444444,\"#bd3786\"],[0.5555555555555556,\"#d8576b\"],[0.6666666666666666,\"#ed7953\"],[0.7777777777777778,\"#fb9f3a\"],[0.8888888888888888,\"#fdca26\"],[1.0,\"#f0f921\"]]}],\"heatmap\":[{\"type\":\"heatmap\",\"colorbar\":{\"outlinewidth\":0,\"ticks\":\"\"},\"colorscale\":[[0.0,\"#0d0887\"],[0.1111111111111111,\"#46039f\"],[0.2222222222222222,\"#7201a8\"],[0.3333333333333333,\"#9c179e\"],[0.4444444444444444,\"#bd3786\"],[0.5555555555555556,\"#d8576b\"],[0.6666666666666666,\"#ed7953\"],[0.7777777777777778,\"#fb9f3a\"],[0.8888888888888888,\"#fdca26\"],[1.0,\"#f0f921\"]]}],\"heatmapgl\":[{\"type\":\"heatmapgl\",\"colorbar\":{\"outlinewidth\":0,\"ticks\":\"\"},\"colorscale\":[[0.0,\"#0d0887\"],[0.1111111111111111,\"#46039f\"],[0.2222222222222222,\"#7201a8\"],[0.3333333333333333,\"#9c179e\"],[0.4444444444444444,\"#bd3786\"],[0.5555555555555556,\"#d8576b\"],[0.6666666666666666,\"#ed7953\"],[0.7777777777777778,\"#fb9f3a\"],[0.8888888888888888,\"#fdca26\"],[1.0,\"#f0f921\"]]}],\"contourcarpet\":[{\"type\":\"contourcarpet\",\"colorbar\":{\"outlinewidth\":0,\"ticks\":\"\"}}],\"contour\":[{\"type\":\"contour\",\"colorbar\":{\"outlinewidth\":0,\"ticks\":\"\"},\"colorscale\":[[0.0,\"#0d0887\"],[0.1111111111111111,\"#46039f\"],[0.2222222222222222,\"#7201a8\"],[0.3333333333333333,\"#9c179e\"],[0.4444444444444444,\"#bd3786\"],[0.5555555555555556,\"#d8576b\"],[0.6666666666666666,\"#ed7953\"],[0.7777777777777778,\"#fb9f3a\"],[0.8888888888888888,\"#fdca26\"],[1.0,\"#f0f921\"]]}],\"surface\":[{\"type\":\"surface\",\"colorbar\":{\"outlinewidth\":0,\"ticks\":\"\"},\"colorscale\":[[0.0,\"#0d0887\"],[0.1111111111111111,\"#46039f\"],[0.2222222222222222,\"#7201a8\"],[0.3333333333333333,\"#9c179e\"],[0.4444444444444444,\"#bd3786\"],[0.5555555555555556,\"#d8576b\"],[0.6666666666666666,\"#ed7953\"],[0.7777777777777778,\"#fb9f3a\"],[0.8888888888888888,\"#fdca26\"],[1.0,\"#f0f921\"]]}],\"mesh3d\":[{\"type\":\"mesh3d\",\"colorbar\":{\"outlinewidth\":0,\"ticks\":\"\"}}],\"scatter\":[{\"fillpattern\":{\"fillmode\":\"overlay\",\"size\":10,\"solidity\":0.2},\"type\":\"scatter\"}],\"parcoords\":[{\"type\":\"parcoords\",\"line\":{\"colorbar\":{\"outlinewidth\":0,\"ticks\":\"\"}}}],\"scatterpolargl\":[{\"type\":\"scatterpolargl\",\"marker\":{\"colorbar\":{\"outlinewidth\":0,\"ticks\":\"\"}}}],\"bar\":[{\"error_x\":{\"color\":\"#2a3f5f\"},\"error_y\":{\"color\":\"#2a3f5f\"},\"marker\":{\"line\":{\"color\":\"#E5ECF6\",\"width\":0.5},\"pattern\":{\"fillmode\":\"overlay\",\"size\":10,\"solidity\":0.2}},\"type\":\"bar\"}],\"scattergeo\":[{\"type\":\"scattergeo\",\"marker\":{\"colorbar\":{\"outlinewidth\":0,\"ticks\":\"\"}}}],\"scatterpolar\":[{\"type\":\"scatterpolar\",\"marker\":{\"colorbar\":{\"outlinewidth\":0,\"ticks\":\"\"}}}],\"histogram\":[{\"marker\":{\"pattern\":{\"fillmode\":\"overlay\",\"size\":10,\"solidity\":0.2}},\"type\":\"histogram\"}],\"scattergl\":[{\"type\":\"scattergl\",\"marker\":{\"colorbar\":{\"outlinewidth\":0,\"ticks\":\"\"}}}],\"scatter3d\":[{\"type\":\"scatter3d\",\"line\":{\"colorbar\":{\"outlinewidth\":0,\"ticks\":\"\"}},\"marker\":{\"colorbar\":{\"outlinewidth\":0,\"ticks\":\"\"}}}],\"scattermapbox\":[{\"type\":\"scattermapbox\",\"marker\":{\"colorbar\":{\"outlinewidth\":0,\"ticks\":\"\"}}}],\"scatterternary\":[{\"type\":\"scatterternary\",\"marker\":{\"colorbar\":{\"outlinewidth\":0,\"ticks\":\"\"}}}],\"scattercarpet\":[{\"type\":\"scattercarpet\",\"marker\":{\"colorbar\":{\"outlinewidth\":0,\"ticks\":\"\"}}}],\"carpet\":[{\"aaxis\":{\"endlinecolor\":\"#2a3f5f\",\"gridcolor\":\"white\",\"linecolor\":\"white\",\"minorgridcolor\":\"white\",\"startlinecolor\":\"#2a3f5f\"},\"baxis\":{\"endlinecolor\":\"#2a3f5f\",\"gridcolor\":\"white\",\"linecolor\":\"white\",\"minorgridcolor\":\"white\",\"startlinecolor\":\"#2a3f5f\"},\"type\":\"carpet\"}],\"table\":[{\"cells\":{\"fill\":{\"color\":\"#EBF0F8\"},\"line\":{\"color\":\"white\"}},\"header\":{\"fill\":{\"color\":\"#C8D4E3\"},\"line\":{\"color\":\"white\"}},\"type\":\"table\"}],\"barpolar\":[{\"marker\":{\"line\":{\"color\":\"#E5ECF6\",\"width\":0.5},\"pattern\":{\"fillmode\":\"overlay\",\"size\":10,\"solidity\":0.2}},\"type\":\"barpolar\"}],\"pie\":[{\"automargin\":true,\"type\":\"pie\"}]},\"layout\":{\"autotypenumbers\":\"strict\",\"colorway\":[\"#636efa\",\"#EF553B\",\"#00cc96\",\"#ab63fa\",\"#FFA15A\",\"#19d3f3\",\"#FF6692\",\"#B6E880\",\"#FF97FF\",\"#FECB52\"],\"font\":{\"color\":\"#2a3f5f\"},\"hovermode\":\"closest\",\"hoverlabel\":{\"align\":\"left\"},\"paper_bgcolor\":\"white\",\"plot_bgcolor\":\"#E5ECF6\",\"polar\":{\"bgcolor\":\"#E5ECF6\",\"angularaxis\":{\"gridcolor\":\"white\",\"linecolor\":\"white\",\"ticks\":\"\"},\"radialaxis\":{\"gridcolor\":\"white\",\"linecolor\":\"white\",\"ticks\":\"\"}},\"ternary\":{\"bgcolor\":\"#E5ECF6\",\"aaxis\":{\"gridcolor\":\"white\",\"linecolor\":\"white\",\"ticks\":\"\"},\"baxis\":{\"gridcolor\":\"white\",\"linecolor\":\"white\",\"ticks\":\"\"},\"caxis\":{\"gridcolor\":\"white\",\"linecolor\":\"white\",\"ticks\":\"\"}},\"coloraxis\":{\"colorbar\":{\"outlinewidth\":0,\"ticks\":\"\"}},\"colorscale\":{\"sequential\":[[0.0,\"#0d0887\"],[0.1111111111111111,\"#46039f\"],[0.2222222222222222,\"#7201a8\"],[0.3333333333333333,\"#9c179e\"],[0.4444444444444444,\"#bd3786\"],[0.5555555555555556,\"#d8576b\"],[0.6666666666666666,\"#ed7953\"],[0.7777777777777778,\"#fb9f3a\"],[0.8888888888888888,\"#fdca26\"],[1.0,\"#f0f921\"]],\"sequentialminus\":[[0.0,\"#0d0887\"],[0.1111111111111111,\"#46039f\"],[0.2222222222222222,\"#7201a8\"],[0.3333333333333333,\"#9c179e\"],[0.4444444444444444,\"#bd3786\"],[0.5555555555555556,\"#d8576b\"],[0.6666666666666666,\"#ed7953\"],[0.7777777777777778,\"#fb9f3a\"],[0.8888888888888888,\"#fdca26\"],[1.0,\"#f0f921\"]],\"diverging\":[[0,\"#8e0152\"],[0.1,\"#c51b7d\"],[0.2,\"#de77ae\"],[0.3,\"#f1b6da\"],[0.4,\"#fde0ef\"],[0.5,\"#f7f7f7\"],[0.6,\"#e6f5d0\"],[0.7,\"#b8e186\"],[0.8,\"#7fbc41\"],[0.9,\"#4d9221\"],[1,\"#276419\"]]},\"xaxis\":{\"gridcolor\":\"white\",\"linecolor\":\"white\",\"ticks\":\"\",\"title\":{\"standoff\":15},\"zerolinecolor\":\"white\",\"automargin\":true,\"zerolinewidth\":2},\"yaxis\":{\"gridcolor\":\"white\",\"linecolor\":\"white\",\"ticks\":\"\",\"title\":{\"standoff\":15},\"zerolinecolor\":\"white\",\"automargin\":true,\"zerolinewidth\":2},\"scene\":{\"xaxis\":{\"backgroundcolor\":\"#E5ECF6\",\"gridcolor\":\"white\",\"linecolor\":\"white\",\"showbackground\":true,\"ticks\":\"\",\"zerolinecolor\":\"white\",\"gridwidth\":2},\"yaxis\":{\"backgroundcolor\":\"#E5ECF6\",\"gridcolor\":\"white\",\"linecolor\":\"white\",\"showbackground\":true,\"ticks\":\"\",\"zerolinecolor\":\"white\",\"gridwidth\":2},\"zaxis\":{\"backgroundcolor\":\"#E5ECF6\",\"gridcolor\":\"white\",\"linecolor\":\"white\",\"showbackground\":true,\"ticks\":\"\",\"zerolinecolor\":\"white\",\"gridwidth\":2}},\"shapedefaults\":{\"line\":{\"color\":\"#2a3f5f\"}},\"annotationdefaults\":{\"arrowcolor\":\"#2a3f5f\",\"arrowhead\":0,\"arrowwidth\":1},\"geo\":{\"bgcolor\":\"white\",\"landcolor\":\"#E5ECF6\",\"subunitcolor\":\"white\",\"showland\":true,\"showlakes\":true,\"lakecolor\":\"white\"},\"title\":{\"x\":0.05},\"mapbox\":{\"style\":\"light\"}}},\"xaxis\":{\"anchor\":\"y\",\"domain\":[0.0,1.0],\"title\":{\"text\":\"x\"}},\"yaxis\":{\"anchor\":\"x\",\"domain\":[0.0,1.0],\"title\":{\"text\":\"y\"}},\"legend\":{\"tracegroupgap\":0},\"margin\":{\"t\":60},\"barmode\":\"relative\"},                        {\"responsive\": true}                    ).then(function(){\n",
       "                            \n",
       "var gd = document.getElementById('cd8541fe-d224-4795-872c-4e78d46f25ee');\n",
       "var x = new MutationObserver(function (mutations, observer) {{\n",
       "        var display = window.getComputedStyle(gd).display;\n",
       "        if (!display || display === 'none') {{\n",
       "            console.log([gd, 'removed!']);\n",
       "            Plotly.purge(gd);\n",
       "            observer.disconnect();\n",
       "        }}\n",
       "}});\n",
       "\n",
       "// Listen for the removal of the full notebook cells\n",
       "var notebookContainer = gd.closest('#notebook-container');\n",
       "if (notebookContainer) {{\n",
       "    x.observe(notebookContainer, {childList: true});\n",
       "}}\n",
       "\n",
       "// Listen for the clearing of the current output cell\n",
       "var outputEl = gd.closest('.output');\n",
       "if (outputEl) {{\n",
       "    x.observe(outputEl, {childList: true});\n",
       "}}\n",
       "\n",
       "                        })                };                });            </script>        </div>"
      ]
     },
     "metadata": {},
     "output_type": "display_data"
    }
   ],
   "source": [
    "feat_imp = pd.Series(m.feature_importances_, index=X.columns).sort_values()\n",
    "print('Columns with poor contribution', feat_imp[feat_imp<100].index)\n",
    "fig = px.bar(x=feat_imp, y=feat_imp.index, orientation='h')\n",
    "fig.show()"
   ]
  },
  {
   "cell_type": "code",
   "execution_count": 11,
   "id": "15fc5fa1",
   "metadata": {
    "execution": {
     "iopub.execute_input": "2023-10-09T11:19:18.766971Z",
     "iopub.status.busy": "2023-10-09T11:19:18.766289Z",
     "iopub.status.idle": "2023-10-09T11:19:18.777611Z",
     "shell.execute_reply": "2023-10-09T11:19:18.776121Z"
    },
    "papermill": {
     "duration": 0.021873,
     "end_time": "2023-10-09T11:19:18.780669",
     "exception": false,
     "start_time": "2023-10-09T11:19:18.758796",
     "status": "completed"
    },
    "tags": []
   },
   "outputs": [
    {
     "data": {
      "text/plain": [
       "far_price_wap_imb                        848\n",
       "far_price_times_wap                      867\n",
       "ask_price_wap_imb                        901\n",
       "far_price_bid_price_wap_imb2             927\n",
       "reference_price_near_price_wap_imb2      940\n",
       "                                       ...  \n",
       "imbalance_ratio                         5984\n",
       "stock_id                                6132\n",
       "imbalance_size                          7888\n",
       "matched_size                           10461\n",
       "seconds_in_bucket                      15191\n",
       "Length: 81, dtype: int32"
      ]
     },
     "execution_count": 11,
     "metadata": {},
     "output_type": "execute_result"
    }
   ],
   "source": [
    "feat_imp.sort_values()"
   ]
  },
  {
   "cell_type": "code",
   "execution_count": 12,
   "id": "2ce8eb50",
   "metadata": {
    "execution": {
     "iopub.execute_input": "2023-10-09T11:19:18.795791Z",
     "iopub.status.busy": "2023-10-09T11:19:18.795414Z",
     "iopub.status.idle": "2023-10-09T11:19:19.858714Z",
     "shell.execute_reply": "2023-10-09T11:19:19.856944Z"
    },
    "papermill": {
     "duration": 1.075106,
     "end_time": "2023-10-09T11:19:19.863110",
     "exception": false,
     "start_time": "2023-10-09T11:19:18.788004",
     "status": "completed"
    },
    "tags": []
   },
   "outputs": [],
   "source": [
    "test = feat_eng(test)\n",
    "test['pca_prices'] = pca_prices.transform(test[prices].fillna(1))"
   ]
  },
  {
   "cell_type": "code",
   "execution_count": 13,
   "id": "42c7ce19",
   "metadata": {
    "execution": {
     "iopub.execute_input": "2023-10-09T11:19:19.898624Z",
     "iopub.status.busy": "2023-10-09T11:19:19.897930Z",
     "iopub.status.idle": "2023-10-09T11:19:19.908942Z",
     "shell.execute_reply": "2023-10-09T11:19:19.907382Z"
    },
    "papermill": {
     "duration": 0.033439,
     "end_time": "2023-10-09T11:19:19.912701",
     "exception": false,
     "start_time": "2023-10-09T11:19:19.879262",
     "status": "completed"
    },
    "tags": []
   },
   "outputs": [
    {
     "data": {
      "text/plain": [
       "(33000, 81)"
      ]
     },
     "execution_count": 13,
     "metadata": {},
     "output_type": "execute_result"
    }
   ],
   "source": [
    "test.shape"
   ]
  },
  {
   "cell_type": "code",
   "execution_count": 14,
   "id": "df1a7311",
   "metadata": {
    "execution": {
     "iopub.execute_input": "2023-10-09T11:19:19.950119Z",
     "iopub.status.busy": "2023-10-09T11:19:19.949433Z",
     "iopub.status.idle": "2023-10-09T11:19:21.756203Z",
     "shell.execute_reply": "2023-10-09T11:19:21.755085Z"
    },
    "papermill": {
     "duration": 1.828812,
     "end_time": "2023-10-09T11:19:21.759317",
     "exception": false,
     "start_time": "2023-10-09T11:19:19.930505",
     "status": "completed"
    },
    "tags": []
   },
   "outputs": [
    {
     "data": {
      "text/plain": [
       "array([-0.88394646,  1.86271992,  3.52227879, ...,  0.03889031,\n",
       "        0.98769131, -2.47166108])"
      ]
     },
     "execution_count": 14,
     "metadata": {},
     "output_type": "execute_result"
    }
   ],
   "source": [
    "m.predict(test)"
   ]
  },
  {
   "cell_type": "code",
   "execution_count": 15,
   "id": "a72f2466",
   "metadata": {
    "execution": {
     "iopub.execute_input": "2023-10-09T11:19:21.774576Z",
     "iopub.status.busy": "2023-10-09T11:19:21.773765Z",
     "iopub.status.idle": "2023-10-09T11:19:21.779123Z",
     "shell.execute_reply": "2023-10-09T11:19:21.778385Z"
    },
    "papermill": {
     "duration": 0.015523,
     "end_time": "2023-10-09T11:19:21.781260",
     "exception": false,
     "start_time": "2023-10-09T11:19:21.765737",
     "status": "completed"
    },
    "tags": []
   },
   "outputs": [],
   "source": [
    "def zero_sum(prices, volumes):\n",
    "    \n",
    "#    I got this idea from https://github.com/gotoConversion/goto_conversion/\n",
    "    \n",
    "    std_error = np.sqrt(volumes)\n",
    "    step = np.sum(prices)/np.sum(std_error)\n",
    "    out = prices-std_error*step\n",
    "    \n",
    "    return out"
   ]
  },
  {
   "cell_type": "code",
   "execution_count": 16,
   "id": "c7428793",
   "metadata": {
    "execution": {
     "iopub.execute_input": "2023-10-09T11:19:21.795171Z",
     "iopub.status.busy": "2023-10-09T11:19:21.794435Z",
     "iopub.status.idle": "2023-10-09T11:19:21.829109Z",
     "shell.execute_reply": "2023-10-09T11:19:21.828274Z"
    },
    "papermill": {
     "duration": 0.044311,
     "end_time": "2023-10-09T11:19:21.831432",
     "exception": false,
     "start_time": "2023-10-09T11:19:21.787121",
     "status": "completed"
    },
    "tags": []
   },
   "outputs": [],
   "source": [
    "import optiver2023\n",
    "env = optiver2023.make_env()\n",
    "iter_test = env.iter_test()"
   ]
  },
  {
   "cell_type": "code",
   "execution_count": 17,
   "id": "98847846",
   "metadata": {
    "execution": {
     "iopub.execute_input": "2023-10-09T11:19:21.849347Z",
     "iopub.status.busy": "2023-10-09T11:19:21.848961Z",
     "iopub.status.idle": "2023-10-09T11:20:54.120687Z",
     "shell.execute_reply": "2023-10-09T11:20:54.119229Z"
    },
    "papermill": {
     "duration": 92.283455,
     "end_time": "2023-10-09T11:20:54.123365",
     "exception": false,
     "start_time": "2023-10-09T11:19:21.839910",
     "status": "completed"
    },
    "tags": []
   },
   "outputs": [
    {
     "name": "stdout",
     "output_type": "stream",
     "text": [
      "This version of the API is not optimized and should not be used to estimate the runtime of your code on the hidden test set.\n"
     ]
    }
   ],
   "source": [
    "counter = 0\n",
    "for (test, revealed_targets, sample_prediction) in iter_test:\n",
    "    \n",
    "    feat = feat_eng(test)\n",
    "    feat['pca_prices'] = pca_prices.transform(feat[prices].fillna(1))\n",
    "    sample_prediction['target'] = m.predict(feat)\n",
    "    \n",
    "    sample_prediction['target'] = zero_sum(sample_prediction['target'], test.loc[:,'bid_size'] + test.loc[:,'ask_size'])\n",
    "    \n",
    "    env.predict(sample_prediction)\n",
    "    \n",
    "    counter += 1"
   ]
  },
  {
   "cell_type": "code",
   "execution_count": null,
   "id": "049e7172",
   "metadata": {
    "papermill": {
     "duration": 0.006535,
     "end_time": "2023-10-09T11:20:54.136893",
     "exception": false,
     "start_time": "2023-10-09T11:20:54.130358",
     "status": "completed"
    },
    "tags": []
   },
   "outputs": [],
   "source": []
  }
 ],
 "metadata": {
  "kernelspec": {
   "display_name": "Python 3",
   "language": "python",
   "name": "python3"
  },
  "language_info": {
   "codemirror_mode": {
    "name": "ipython",
    "version": 3
   },
   "file_extension": ".py",
   "mimetype": "text/x-python",
   "name": "python",
   "nbconvert_exporter": "python",
   "pygments_lexer": "ipython3",
   "version": "3.10.12"
  },
  "papermill": {
   "default_parameters": {},
   "duration": 1210.051667,
   "end_time": "2023-10-09T11:20:55.571731",
   "environment_variables": {},
   "exception": null,
   "input_path": "__notebook__.ipynb",
   "output_path": "__notebook__.ipynb",
   "parameters": {},
   "start_time": "2023-10-09T11:00:45.520064",
   "version": "2.4.0"
  }
 },
 "nbformat": 4,
 "nbformat_minor": 5
}
